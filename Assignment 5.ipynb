{
 "cells": [
  {
   "cell_type": "markdown",
   "id": "6d70808e",
   "metadata": {},
   "source": [
    "# Assignment 5"
   ]
  },
  {
   "cell_type": "code",
   "execution_count": 1,
   "id": "34be87ae",
   "metadata": {},
   "outputs": [],
   "source": [
    "import numpy as np\n",
    "import pandas as pd\n",
    "from plotnine import *"
   ]
  },
  {
   "cell_type": "markdown",
   "id": "d8433f86",
   "metadata": {},
   "source": [
    "## Panel Data\n",
    "### 1.1"
   ]
  },
  {
   "cell_type": "code",
   "execution_count": 3,
   "id": "572324a6",
   "metadata": {},
   "outputs": [
    {
     "data": {
      "image/png": "[encoded data removed]",
      "text/plain": [
       "<Figure size 640x480 with 1 Axes>"
      ]
     },
     "metadata": {},
     "output_type": "display_data"
    },
    {
     "data": {
      "text/plain": [
       "<ggplot: (382010522)>"
      ]
     },
     "execution_count": 3,
     "metadata": {},
     "output_type": "execute_result"
    }
   ],
   "source": [
    "df1 = pd.read_csv(\"assignment5_part1.csv\")\n",
    "ggplot(df1, aes(\"density\", \"vio\", color = \"state\")) + geom_point() + theme(legend_position = \"none\")"
   ]
  },
  {
   "cell_type": "code",
   "execution_count": 5,
   "id": "8aaff85b",
   "metadata": {},
   "outputs": [
    {
     "data": {
      "text/html": [
       "<div>\n",
       "<style scoped>\n",
       "    .dataframe tbody tr th:only-of-type {\n",
       "        vertical-align: middle;\n",
       "    }\n",
       "\n",
       "    .dataframe tbody tr th {\n",
       "        vertical-align: top;\n",
       "    }\n",
       "\n",
       "    .dataframe thead th {\n",
       "        text-align: right;\n",
       "    }\n",
       "</style>\n",
       "<table border=\"1\" class=\"dataframe\">\n",
       "  <thead>\n",
       "    <tr style=\"text-align: right;\">\n",
       "      <th></th>\n",
       "      <th>state</th>\n",
       "      <th>year</th>\n",
       "      <th>stateid</th>\n",
       "      <th>vio</th>\n",
       "      <th>mur</th>\n",
       "      <th>rap</th>\n",
       "      <th>aga</th>\n",
       "      <th>bur</th>\n",
       "      <th>auto</th>\n",
       "      <th>shall</th>\n",
       "      <th>density</th>\n",
       "      <th>rpcpi</th>\n",
       "      <th>rpcui</th>\n",
       "      <th>rpcim</th>\n",
       "      <th>pbm1019</th>\n",
       "      <th>pbm2029</th>\n",
       "      <th>pwm1019</th>\n",
       "      <th>pwm2029</th>\n",
       "    </tr>\n",
       "  </thead>\n",
       "  <tbody>\n",
       "    <tr>\n",
       "      <th>320</th>\n",
       "      <td>District of Columbia</td>\n",
       "      <td>1993</td>\n",
       "      <td>11</td>\n",
       "      <td>2921.799308</td>\n",
       "      <td>78.546713</td>\n",
       "      <td>56.055363</td>\n",
       "      <td>1557.612457</td>\n",
       "      <td>1995.501730</td>\n",
       "      <td>1394.809689</td>\n",
       "      <td>0.000000</td>\n",
       "      <td>9386.937500</td>\n",
       "      <td>20680.277344</td>\n",
       "      <td>238.062286</td>\n",
       "      <td>411.764709</td>\n",
       "      <td>3.423393</td>\n",
       "      <td>5.249515</td>\n",
       "      <td>1.188671</td>\n",
       "      <td>3.652417</td>\n",
       "    </tr>\n",
       "    <tr>\n",
       "      <th>319</th>\n",
       "      <td>District of Columbia</td>\n",
       "      <td>1992</td>\n",
       "      <td>11</td>\n",
       "      <td>2832.767402</td>\n",
       "      <td>75.212224</td>\n",
       "      <td>36.502547</td>\n",
       "      <td>1454.668930</td>\n",
       "      <td>1820.203735</td>\n",
       "      <td>1548.047538</td>\n",
       "      <td>0.000000</td>\n",
       "      <td>9514.380859</td>\n",
       "      <td>20451.888672</td>\n",
       "      <td>279.401276</td>\n",
       "      <td>371.347107</td>\n",
       "      <td>3.547176</td>\n",
       "      <td>5.595849</td>\n",
       "      <td>1.160253</td>\n",
       "      <td>3.756528</td>\n",
       "    </tr>\n",
       "    <tr>\n",
       "      <th>321</th>\n",
       "      <td>District of Columbia</td>\n",
       "      <td>1994</td>\n",
       "      <td>11</td>\n",
       "      <td>2662.631579</td>\n",
       "      <td>70.000000</td>\n",
       "      <td>43.684211</td>\n",
       "      <td>1441.754386</td>\n",
       "      <td>1760.877193</td>\n",
       "      <td>1449.298246</td>\n",
       "      <td>0.000000</td>\n",
       "      <td>9201.661133</td>\n",
       "      <td>20785.425781</td>\n",
       "      <td>128.205124</td>\n",
       "      <td>437.246979</td>\n",
       "      <td>3.372320</td>\n",
       "      <td>4.880687</td>\n",
       "      <td>1.237916</td>\n",
       "      <td>3.611266</td>\n",
       "    </tr>\n",
       "    <tr>\n",
       "      <th>322</th>\n",
       "      <td>District of Columbia</td>\n",
       "      <td>1995</td>\n",
       "      <td>11</td>\n",
       "      <td>2661.371841</td>\n",
       "      <td>64.981949</td>\n",
       "      <td>52.707581</td>\n",
       "      <td>1304.693141</td>\n",
       "      <td>1838.447653</td>\n",
       "      <td>1839.891697</td>\n",
       "      <td>0.000000</td>\n",
       "      <td>8978.387695</td>\n",
       "      <td>20532.152344</td>\n",
       "      <td>121.391075</td>\n",
       "      <td>446.194214</td>\n",
       "      <td>3.390153</td>\n",
       "      <td>4.530967</td>\n",
       "      <td>1.283212</td>\n",
       "      <td>3.564114</td>\n",
       "    </tr>\n",
       "    <tr>\n",
       "      <th>323</th>\n",
       "      <td>District of Columbia</td>\n",
       "      <td>1996</td>\n",
       "      <td>11</td>\n",
       "      <td>2469.797422</td>\n",
       "      <td>73.112339</td>\n",
       "      <td>47.882136</td>\n",
       "      <td>1162.062615</td>\n",
       "      <td>1809.944751</td>\n",
       "      <td>1837.016575</td>\n",
       "      <td>0.000000</td>\n",
       "      <td>8766.661133</td>\n",
       "      <td>21020.394531</td>\n",
       "      <td>108.986618</td>\n",
       "      <td>462.077759</td>\n",
       "      <td>3.338826</td>\n",
       "      <td>4.215333</td>\n",
       "      <td>1.316990</td>\n",
       "      <td>3.504541</td>\n",
       "    </tr>\n",
       "    <tr>\n",
       "      <th>...</th>\n",
       "      <td>...</td>\n",
       "      <td>...</td>\n",
       "      <td>...</td>\n",
       "      <td>...</td>\n",
       "      <td>...</td>\n",
       "      <td>...</td>\n",
       "      <td>...</td>\n",
       "      <td>...</td>\n",
       "      <td>...</td>\n",
       "      <td>...</td>\n",
       "      <td>...</td>\n",
       "      <td>...</td>\n",
       "      <td>...</td>\n",
       "      <td>...</td>\n",
       "      <td>...</td>\n",
       "      <td>...</td>\n",
       "      <td>...</td>\n",
       "      <td>...</td>\n",
       "    </tr>\n",
       "    <tr>\n",
       "      <th>1295</th>\n",
       "      <td>North Dakota</td>\n",
       "      <td>1980</td>\n",
       "      <td>38</td>\n",
       "      <td>53.951569</td>\n",
       "      <td>1.226172</td>\n",
       "      <td>9.502833</td>\n",
       "      <td>35.558989</td>\n",
       "      <td>488.323010</td>\n",
       "      <td>179.174388</td>\n",
       "      <td>0.000000</td>\n",
       "      <td>9.418715</td>\n",
       "      <td>9580.096680</td>\n",
       "      <td>70.388351</td>\n",
       "      <td>94.660194</td>\n",
       "      <td>0.042628</td>\n",
       "      <td>0.115355</td>\n",
       "      <td>8.532760</td>\n",
       "      <td>9.804722</td>\n",
       "    </tr>\n",
       "    <tr>\n",
       "      <th>1298</th>\n",
       "      <td>North Dakota</td>\n",
       "      <td>1983</td>\n",
       "      <td>38</td>\n",
       "      <td>53.676471</td>\n",
       "      <td>2.058824</td>\n",
       "      <td>12.500000</td>\n",
       "      <td>31.323529</td>\n",
       "      <td>436.323529</td>\n",
       "      <td>129.117647</td>\n",
       "      <td>0.000000</td>\n",
       "      <td>9.764618</td>\n",
       "      <td>11462.851562</td>\n",
       "      <td>95.381523</td>\n",
       "      <td>90.361443</td>\n",
       "      <td>0.042413</td>\n",
       "      <td>0.119701</td>\n",
       "      <td>7.631025</td>\n",
       "      <td>9.780474</td>\n",
       "    </tr>\n",
       "    <tr>\n",
       "      <th>1299</th>\n",
       "      <td>North Dakota</td>\n",
       "      <td>1984</td>\n",
       "      <td>38</td>\n",
       "      <td>53.644315</td>\n",
       "      <td>1.166181</td>\n",
       "      <td>13.119534</td>\n",
       "      <td>31.632653</td>\n",
       "      <td>399.125364</td>\n",
       "      <td>110.787172</td>\n",
       "      <td>0.000000</td>\n",
       "      <td>9.819582</td>\n",
       "      <td>11807.506836</td>\n",
       "      <td>65.447548</td>\n",
       "      <td>93.359001</td>\n",
       "      <td>0.042322</td>\n",
       "      <td>0.119472</td>\n",
       "      <td>7.412817</td>\n",
       "      <td>9.599749</td>\n",
       "    </tr>\n",
       "    <tr>\n",
       "      <th>1301</th>\n",
       "      <td>North Dakota</td>\n",
       "      <td>1986</td>\n",
       "      <td>38</td>\n",
       "      <td>51.251841</td>\n",
       "      <td>1.030928</td>\n",
       "      <td>11.634757</td>\n",
       "      <td>31.664212</td>\n",
       "      <td>385.125184</td>\n",
       "      <td>119.882180</td>\n",
       "      <td>1.000000</td>\n",
       "      <td>9.661068</td>\n",
       "      <td>11884.124023</td>\n",
       "      <td>72.080292</td>\n",
       "      <td>104.014595</td>\n",
       "      <td>0.043317</td>\n",
       "      <td>0.117851</td>\n",
       "      <td>7.166383</td>\n",
       "      <td>8.920860</td>\n",
       "    </tr>\n",
       "    <tr>\n",
       "      <th>1300</th>\n",
       "      <td>North Dakota</td>\n",
       "      <td>1985</td>\n",
       "      <td>38</td>\n",
       "      <td>47.007299</td>\n",
       "      <td>1.021898</td>\n",
       "      <td>7.299270</td>\n",
       "      <td>32.262774</td>\n",
       "      <td>427.007299</td>\n",
       "      <td>118.248175</td>\n",
       "      <td>0.419178</td>\n",
       "      <td>9.768831</td>\n",
       "      <td>11828.996094</td>\n",
       "      <td>65.985130</td>\n",
       "      <td>96.654274</td>\n",
       "      <td>0.042984</td>\n",
       "      <td>0.119352</td>\n",
       "      <td>7.272180</td>\n",
       "      <td>9.307214</td>\n",
       "    </tr>\n",
       "  </tbody>\n",
       "</table>\n",
       "<p>1938 rows × 18 columns</p>\n",
       "</div>"
      ],
      "text/plain": [
       "                     state  year  stateid          vio        mur        rap  \\\n",
       "320   District of Columbia  1993       11  2921.799308  78.546713  56.055363   \n",
       "319   District of Columbia  1992       11  2832.767402  75.212224  36.502547   \n",
       "321   District of Columbia  1994       11  2662.631579  70.000000  43.684211   \n",
       "322   District of Columbia  1995       11  2661.371841  64.981949  52.707581   \n",
       "323   District of Columbia  1996       11  2469.797422  73.112339  47.882136   \n",
       "...                    ...   ...      ...          ...        ...        ...   \n",
       "1295          North Dakota  1980       38    53.951569   1.226172   9.502833   \n",
       "1298          North Dakota  1983       38    53.676471   2.058824  12.500000   \n",
       "1299          North Dakota  1984       38    53.644315   1.166181  13.119534   \n",
       "1301          North Dakota  1986       38    51.251841   1.030928  11.634757   \n",
       "1300          North Dakota  1985       38    47.007299   1.021898   7.299270   \n",
       "\n",
       "              aga          bur         auto     shall      density  \\\n",
       "320   1557.612457  1995.501730  1394.809689  0.000000  9386.937500   \n",
       "319   1454.668930  1820.203735  1548.047538  0.000000  9514.380859   \n",
       "321   1441.754386  1760.877193  1449.298246  0.000000  9201.661133   \n",
       "322   1304.693141  1838.447653  1839.891697  0.000000  8978.387695   \n",
       "323   1162.062615  1809.944751  1837.016575  0.000000  8766.661133   \n",
       "...           ...          ...          ...       ...          ...   \n",
       "1295    35.558989   488.323010   179.174388  0.000000     9.418715   \n",
       "1298    31.323529   436.323529   129.117647  0.000000     9.764618   \n",
       "1299    31.632653   399.125364   110.787172  0.000000     9.819582   \n",
       "1301    31.664212   385.125184   119.882180  1.000000     9.661068   \n",
       "1300    32.262774   427.007299   118.248175  0.419178     9.768831   \n",
       "\n",
       "             rpcpi       rpcui       rpcim   pbm1019   pbm2029   pwm1019  \\\n",
       "320   20680.277344  238.062286  411.764709  3.423393  5.249515  1.188671   \n",
       "319   20451.888672  279.401276  371.347107  3.547176  5.595849  1.160253   \n",
       "321   20785.425781  128.205124  437.246979  3.372320  4.880687  1.237916   \n",
       "322   20532.152344  121.391075  446.194214  3.390153  4.530967  1.283212   \n",
       "323   21020.394531  108.986618  462.077759  3.338826  4.215333  1.316990   \n",
       "...            ...         ...         ...       ...       ...       ...   \n",
       "1295   9580.096680   70.388351   94.660194  0.042628  0.115355  8.532760   \n",
       "1298  11462.851562   95.381523   90.361443  0.042413  0.119701  7.631025   \n",
       "1299  11807.506836   65.447548   93.359001  0.042322  0.119472  7.412817   \n",
       "1301  11884.124023   72.080292  104.014595  0.043317  0.117851  7.166383   \n",
       "1300  11828.996094   65.985130   96.654274  0.042984  0.119352  7.272180   \n",
       "\n",
       "       pwm2029  \n",
       "320   3.652417  \n",
       "319   3.756528  \n",
       "321   3.611266  \n",
       "322   3.564114  \n",
       "323   3.504541  \n",
       "...        ...  \n",
       "1295  9.804722  \n",
       "1298  9.780474  \n",
       "1299  9.599749  \n",
       "1301  8.920860  \n",
       "1300  9.307214  \n",
       "\n",
       "[1938 rows x 18 columns]"
      ]
     },
     "execution_count": 5,
     "metadata": {},
     "output_type": "execute_result"
    }
   ],
   "source": [
    "df1.sort_values(\"vio\", ascending=False)"
   ]
  },
  {
   "cell_type": "markdown",
   "id": "8255052f",
   "metadata": {},
   "source": [
    "The state that stands out is District of Columbia. From a preliminary glance, it seems that higher density of people is correlated with higher violent crime rate."
   ]
  },
  {
   "cell_type": "code",
   "execution_count": 7,
   "id": "e475291b",
   "metadata": {},
   "outputs": [
    {
     "data": {
      "image/png": "[encoded data removed]",
      "text/plain": [
       "<Figure size 640x480 with 1 Axes>"
      ]
     },
     "metadata": {},
     "output_type": "display_data"
    },
    {
     "data": {
      "text/plain": [
       "<ggplot: (382222291)>"
      ]
     },
     "execution_count": 7,
     "metadata": {},
     "output_type": "execute_result"
    }
   ],
   "source": [
    "df1[\"log_density\"] = np.log(df1[\"density\"])\n",
    "df1[\"log_vio\"] = np.log(df1[\"vio\"])\n",
    "ggplot(df1, aes(\"log_density\", \"log_vio\", color = \"state\")) + geom_point() + theme(legend_position = \"none\")"
   ]
  },
  {
   "cell_type": "markdown",
   "id": "08237521",
   "metadata": {},
   "source": [
    "Log transforming is useful because much of the data is bunched together. Also, it could be useful to think in terms of percent changes to violence rate."
   ]
  },
  {
   "cell_type": "markdown",
   "id": "dfcc978b",
   "metadata": {},
   "source": [
    "### 1.2"
   ]
  },
  {
   "cell_type": "code",
   "execution_count": 11,
   "id": "fe149364",
   "metadata": {},
   "outputs": [
    {
     "data": {
      "image/png": "[encoded data removed]",
      "text/plain": [
       "<Figure size 640x480 with 1 Axes>"
      ]
     },
     "metadata": {},
     "output_type": "display_data"
    },
    {
     "data": {
      "text/plain": [
       "<ggplot: (688041540)>"
      ]
     },
     "execution_count": 11,
     "metadata": {},
     "output_type": "execute_result"
    }
   ],
   "source": [
    "ggplot(df1, aes(y = \"vio\", x = \"shall\")) + geom_point()"
   ]
  },
  {
   "cell_type": "markdown",
   "id": "58246bd1",
   "metadata": {},
   "source": [
    "It seems like having a shall-issue law decreases the violence rate, but the violence rate divide could be caused by other factors too. "
   ]
  },
  {
   "cell_type": "markdown",
   "id": "d329fb1d",
   "metadata": {},
   "source": [
    "### 1.3"
   ]
  },
  {
   "cell_type": "code",
   "execution_count": 19,
   "id": "df8a2383",
   "metadata": {},
   "outputs": [
    {
     "name": "stdout",
     "output_type": "stream",
     "text": [
      "                          PooledOLS Estimation Summary                          \n",
      "================================================================================\n",
      "Dep. Variable:                    vio   R-squared:                        0.0623\n",
      "Estimator:                  PooledOLS   R-squared (Between):              0.1042\n",
      "No. Observations:                1938   R-squared (Within):              -0.1282\n",
      "Date:                Thu, May 05 2022   R-squared (Overall):              0.0623\n",
      "Time:                        02:16:30   Log-likelihood                -1.374e+04\n",
      "Cov. Estimator:             Clustered                                           \n",
      "                                        F-statistic:                      128.57\n",
      "Entities:                          51   P-value                           0.0000\n",
      "Avg Obs:                       38.000   Distribution:                  F(1,1936)\n",
      "Min Obs:                       38.000                                           \n",
      "Max Obs:                       38.000   F-statistic (robust):             6.5506\n",
      "                                        P-value                           0.0106\n",
      "Time periods:                      38   Distribution:                  F(1,1936)\n",
      "Avg Obs:                       51.000                                           \n",
      "Min Obs:                       51.000                                           \n",
      "Max Obs:                       51.000                                           \n",
      "                                                                                \n",
      "                             Parameter Estimates                              \n",
      "==============================================================================\n",
      "            Parameter  Std. Err.     T-stat    P-value    Lower CI    Upper CI\n",
      "------------------------------------------------------------------------------\n",
      "const          536.57     56.690     9.4650     0.0000      425.39      647.75\n",
      "shall         -150.81     58.923    -2.5594     0.0106     -266.37     -35.249\n",
      "==============================================================================\n"
     ]
    }
   ],
   "source": [
    "import statsmodels.api as smf\n",
    "from linearmodels import PooledOLS\n",
    "df1_indexed = df1.set_index([\"state\", \"year\"])\n",
    "exog = smf.add_constant(df1_indexed[\"shall\"])\n",
    "mod = PooledOLS(df1_indexed['vio'], exog)\n",
    "pooled_res = mod.fit(cov_type='clustered', cluster_entity = True, cluster_time = True)\n",
    "print(pooled_res)"
   ]
  },
  {
   "cell_type": "markdown",
   "id": "ae7b0060",
   "metadata": {},
   "source": [
    "The beta1 is significant given the p-value. It's saying that a state in a given year with a shall-carry law in place for the entire year has 150.81 less incidents of violence per 100k people. This aligns with the view discussed in 1.2"
   ]
  },
  {
   "cell_type": "markdown",
   "id": "1c48eeb8",
   "metadata": {},
   "source": [
    "### 1.4"
   ]
  },
  {
   "cell_type": "code",
   "execution_count": 33,
   "id": "aa70c6c9",
   "metadata": {},
   "outputs": [
    {
     "name": "stdout",
     "output_type": "stream",
     "text": [
      "                          PanelOLS Estimation Summary                           \n",
      "================================================================================\n",
      "Dep. Variable:                    vio   R-squared:                        0.0066\n",
      "Estimator:                   PanelOLS   R-squared (Between):              0.0235\n",
      "No. Observations:                1938   R-squared (Within):               0.0066\n",
      "Date:                Thu, May 05 2022   R-squared (Overall):              0.0205\n",
      "Time:                        02:41:46   Log-likelihood                -1.213e+04\n",
      "Cov. Estimator:             Clustered                                           \n",
      "                                        F-statistic:                      12.445\n",
      "Entities:                          51   P-value                           0.0004\n",
      "Avg Obs:                       38.000   Distribution:                  F(1,1886)\n",
      "Min Obs:                       38.000                                           \n",
      "Max Obs:                       38.000   F-statistic (robust):             1.8421\n",
      "                                        P-value                           0.1749\n",
      "Time periods:                      38   Distribution:                  F(1,1886)\n",
      "Avg Obs:                       51.000                                           \n",
      "Min Obs:                       51.000                                           \n",
      "Max Obs:                       51.000                                           \n",
      "                                                                                \n",
      "                             Parameter Estimates                              \n",
      "==============================================================================\n",
      "            Parameter  Std. Err.     T-stat    P-value    Lower CI    Upper CI\n",
      "------------------------------------------------------------------------------\n",
      "const          480.60     14.562     33.004     0.0000      452.04      509.16\n",
      "shall         -27.253     20.080    -1.3572     0.1749     -66.635      12.128\n",
      "==============================================================================\n",
      "\n",
      "F-test for Poolability: 159.55\n",
      "P-value: 0.0000\n",
      "Distribution: F(50,1886)\n",
      "\n",
      "Included effects: Entity\n"
     ]
    }
   ],
   "source": [
    "from linearmodels import PanelOLS\n",
    "mod2 = PanelOLS(df1_indexed['vio'], exog, entity_effects=True, time_effects=False)\n",
    "state_fixed_res = mod2.fit(cov_type='clustered', cluster_entity = True, cluster_time = True)\n",
    "print(state_fixed_res)"
   ]
  },
  {
   "cell_type": "markdown",
   "id": "6efaf54f",
   "metadata": {},
   "source": [
    "The beta1 is isn't significant given the p-value. It's saying that a state in a given year with a shall-carry law in place for the entire year has 27 less incidents of violence per 100k people. It's smaller than the pooled beta1, indicating that there was a lot of factors within states that also affected the violence rate."
   ]
  },
  {
   "cell_type": "markdown",
   "id": "028aae96",
   "metadata": {},
   "source": [
    "### 1.5"
   ]
  },
  {
   "cell_type": "code",
   "execution_count": 31,
   "id": "2f6107db",
   "metadata": {},
   "outputs": [
    {
     "name": "stdout",
     "output_type": "stream",
     "text": [
      "                          PanelOLS Estimation Summary                           \n",
      "================================================================================\n",
      "Dep. Variable:                    vio   R-squared:                        0.0061\n",
      "Estimator:                   PanelOLS   R-squared (Between):             -0.0288\n",
      "No. Observations:                1938   R-squared (Within):              -0.0229\n",
      "Date:                Thu, May 05 2022   R-squared (Overall):             -0.0277\n",
      "Time:                        02:39:59   Log-likelihood                -1.181e+04\n",
      "Cov. Estimator:             Clustered                                           \n",
      "                                        F-statistic:                      11.322\n",
      "Entities:                          51   P-value                           0.0008\n",
      "Avg Obs:                       38.000   Distribution:                  F(1,1849)\n",
      "Min Obs:                       38.000                                           \n",
      "Max Obs:                       38.000   F-statistic (robust):             0.9817\n",
      "                                        P-value                           0.3219\n",
      "Time periods:                      38   Distribution:                  F(1,1849)\n",
      "Avg Obs:                       51.000                                           \n",
      "Min Obs:                       51.000                                           \n",
      "Max Obs:                       51.000                                           \n",
      "                                                                                \n",
      "                             Parameter Estimates                              \n",
      "==============================================================================\n",
      "            Parameter  Std. Err.     T-stat    P-value    Lower CI    Upper CI\n",
      "------------------------------------------------------------------------------\n",
      "const          454.44     13.648     33.298     0.0000      427.67      481.21\n",
      "shall          30.503     30.787     0.9908     0.3219     -29.877      90.884\n",
      "==============================================================================\n",
      "\n",
      "F-test for Poolability: 133.49\n",
      "P-value: 0.0000\n",
      "Distribution: F(87,1849)\n",
      "\n",
      "Included effects: Entity, Time\n"
     ]
    }
   ],
   "source": [
    "mod3 = PanelOLS(df1_indexed['vio'], exog, entity_effects=True, time_effects=True)\n",
    "state_time_fixed_res = mod3.fit(cov_type='clustered', cluster_entity = True, cluster_time = True)\n",
    "print(state_time_fixed_res)"
   ]
  },
  {
   "cell_type": "markdown",
   "id": "0cca35d7",
   "metadata": {},
   "source": [
    "Beta1 isn't significant in this model. It's significantly different from the earlier beta1s because it's positive, indicating that the shall-carry law actually increased violence rates. It seems that other factors across states and time were causing the changes in violence rate."
   ]
  },
  {
   "cell_type": "markdown",
   "id": "70ceda94",
   "metadata": {},
   "source": [
    "### 1.6"
   ]
  },
  {
   "cell_type": "code",
   "execution_count": 37,
   "id": "c722340b",
   "metadata": {},
   "outputs": [
    {
     "name": "stdout",
     "output_type": "stream",
     "text": [
      "                          PanelOLS Estimation Summary                           \n",
      "================================================================================\n",
      "Dep. Variable:                    vio   R-squared:                        0.3399\n",
      "Estimator:                   PanelOLS   R-squared (Between):             -3.3848\n",
      "No. Observations:                1938   R-squared (Within):               0.3399\n",
      "Date:                Thu, May 05 2022   R-squared (Overall):             -2.7125\n",
      "Time:                        02:52:16   Log-likelihood                -1.174e+04\n",
      "Cov. Estimator:             Clustered                                           \n",
      "                                        F-statistic:                      107.44\n",
      "Entities:                          51   P-value                           0.0000\n",
      "Avg Obs:                       38.000   Distribution:                  F(9,1878)\n",
      "Min Obs:                       38.000                                           \n",
      "Max Obs:                       38.000   F-statistic (robust):             28.737\n",
      "                                        P-value                           0.0000\n",
      "Time periods:                      38   Distribution:                  F(9,1878)\n",
      "Avg Obs:                       51.000                                           \n",
      "Min Obs:                       51.000                                           \n",
      "Max Obs:                       51.000                                           \n",
      "                                                                                \n",
      "                             Parameter Estimates                              \n",
      "==============================================================================\n",
      "            Parameter  Std. Err.     T-stat    P-value    Lower CI    Upper CI\n",
      "------------------------------------------------------------------------------\n",
      "const          1553.4     237.26     6.5475     0.0000      1088.1      2018.7\n",
      "shall         -5.1480     24.190    -0.2128     0.8315     -52.590      42.294\n",
      "rpcpi         -0.0253     0.0059    -4.2561     0.0000     -0.0370     -0.0137\n",
      "rpcui         -0.3486     0.1540    -2.2634     0.0237     -0.6506     -0.0465\n",
      "rpcim         -0.1225     0.1481    -0.8271     0.4083     -0.4130      0.1680\n",
      "density       -0.2775     0.0743    -3.7322     0.0002     -0.4233     -0.1317\n",
      "pbm1019       -204.27     87.018    -2.3474     0.0190     -374.93     -33.605\n",
      "pbm2029        216.26     62.726     3.4477     0.0006      93.239      339.28\n",
      "pwm1019       -55.286     15.580    -3.5486     0.0004     -85.841     -24.730\n",
      "pwm2029       -29.248     12.315    -2.3751     0.0176     -53.400     -5.0963\n",
      "==============================================================================\n",
      "\n",
      "F-test for Poolability: 94.530\n",
      "P-value: 0.0000\n",
      "Distribution: F(50,1878)\n",
      "\n",
      "Included effects: Entity\n"
     ]
    }
   ],
   "source": [
    "exog = smf.add_constant(df1_indexed[[\"shall\", \"rpcpi\", \"rpcui\", 'rpcim', 'density', 'pbm1019', 'pbm2029', 'pwm1019', 'pwm2029']])\n",
    "mod = PanelOLS(df1_indexed.vio, exog, entity_effects=True, time_effects=False)\n",
    "res = mod.fit(cov_type='clustered', cluster_entity = True, cluster_time = True)\n",
    "print(res)"
   ]
  },
  {
   "cell_type": "markdown",
   "id": "15130ecb",
   "metadata": {},
   "source": [
    "The beta1 has become smaller in magnitude and it's p-value is much greater."
   ]
  },
  {
   "cell_type": "code",
   "execution_count": 38,
   "id": "00674142",
   "metadata": {},
   "outputs": [
    {
     "name": "stdout",
     "output_type": "stream",
     "text": [
      "                          PanelOLS Estimation Summary                           \n",
      "================================================================================\n",
      "Dep. Variable:                    vio   R-squared:                        0.2369\n",
      "Estimator:                   PanelOLS   R-squared (Between):             -3.2305\n",
      "No. Observations:                1938   R-squared (Within):               0.2885\n",
      "Date:                Thu, May 05 2022   R-squared (Overall):             -2.5953\n",
      "Time:                        02:54:38   Log-likelihood                -1.156e+04\n",
      "Cov. Estimator:             Clustered                                           \n",
      "                                        F-statistic:                      63.504\n",
      "Entities:                          51   P-value                           0.0000\n",
      "Avg Obs:                       38.000   Distribution:                  F(9,1841)\n",
      "Min Obs:                       38.000                                           \n",
      "Max Obs:                       38.000   F-statistic (robust):             21.310\n",
      "                                        P-value                           0.0000\n",
      "Time periods:                      38   Distribution:                  F(9,1841)\n",
      "Avg Obs:                       51.000                                           \n",
      "Min Obs:                       51.000                                           \n",
      "Max Obs:                       51.000                                           \n",
      "                                                                                \n",
      "                             Parameter Estimates                              \n",
      "==============================================================================\n",
      "            Parameter  Std. Err.     T-stat    P-value    Lower CI    Upper CI\n",
      "------------------------------------------------------------------------------\n",
      "const          1198.0     271.24     4.4168     0.0000      666.06      1730.0\n",
      "shall         -4.3137     28.307    -0.1524     0.8789     -59.831      51.204\n",
      "rpcpi         -0.0173     0.0080    -2.1678     0.0303     -0.0330     -0.0017\n",
      "rpcui         -0.2595     0.1749    -1.4837     0.1381     -0.6024      0.0835\n",
      "rpcim         -0.0074     0.2607    -0.0284     0.9774     -0.5187      0.5039\n",
      "density       -0.3175     0.0717    -4.4307     0.0000     -0.4580     -0.1769\n",
      "pbm1019       -167.94     85.095    -1.9736     0.0486     -334.84     -1.0500\n",
      "pbm2029        261.27     77.024     3.3920     0.0007      110.20      412.33\n",
      "pwm1019       -70.269     21.707    -3.2371     0.0012     -112.84     -27.695\n",
      "pwm2029        6.7833     16.622     0.4081     0.6833     -25.818      39.384\n",
      "==============================================================================\n",
      "\n",
      "F-test for Poolability: 68.506\n",
      "P-value: 0.0000\n",
      "Distribution: F(87,1841)\n",
      "\n",
      "Included effects: Entity, Time\n"
     ]
    }
   ],
   "source": [
    "exog = smf.add_constant(df1_indexed[[\"shall\", \"rpcpi\", \"rpcui\", 'rpcim', 'density', 'pbm1019', 'pbm2029', 'pwm1019', 'pwm2029']])\n",
    "mod = PanelOLS(df1_indexed.vio, exog, entity_effects=True, time_effects=True)\n",
    "res = mod.fit(cov_type='clustered', cluster_entity = True, cluster_time = True)\n",
    "print(res)"
   ]
  },
  {
   "cell_type": "markdown",
   "id": "0e7919f1",
   "metadata": {},
   "source": [
    "The beta1 here is negative instead of positive with a relatively big jump in value, and the p-value is much greater too."
   ]
  },
  {
   "cell_type": "markdown",
   "id": "59b44063",
   "metadata": {},
   "source": [
    "Overall, I'll conclude that shall-issue laws don't have a significant affect on crime because in the models where we control for fixed effects and time effects, the coefficient of shall isn't significant. There may be other factors that are more important to causing violence."
   ]
  },
  {
   "cell_type": "markdown",
   "id": "9b3a9453",
   "metadata": {},
   "source": [
    "## Binary Dependent Variables\n",
    "### 2.1"
   ]
  },
  {
   "cell_type": "code",
   "execution_count": 43,
   "id": "5f4e97d1",
   "metadata": {},
   "outputs": [],
   "source": [
    "df2 = pd.read_csv(\"assignment5_part2.csv\")"
   ]
  },
  {
   "cell_type": "code",
   "execution_count": 96,
   "id": "a9c98791",
   "metadata": {},
   "outputs": [
    {
     "data": {
      "text/plain": [
       "age               0\n",
       "race              0\n",
       "earnwke         639\n",
       "employed          0\n",
       "unemployed        0\n",
       "married           0\n",
       "union             0\n",
       "ne_states         0\n",
       "so_states         0\n",
       "ce_states         0\n",
       "we_states         0\n",
       "government        0\n",
       "private           0\n",
       "self              0\n",
       "educ_lths         0\n",
       "educ_hs           0\n",
       "educ_somecol      0\n",
       "educ_aa           0\n",
       "educ_bac          0\n",
       "educ_adv          0\n",
       "female            0\n",
       "dtype: int64"
      ]
     },
     "execution_count": 96,
     "metadata": {},
     "output_type": "execute_result"
    }
   ],
   "source": [
    "df2.isna().sum()"
   ]
  },
  {
   "cell_type": "code",
   "execution_count": 97,
   "id": "f6767496",
   "metadata": {},
   "outputs": [],
   "source": [
    "df2['earnwke'] = df2['earnwke'].fillna(df2.earnwke.median())"
   ]
  },
  {
   "cell_type": "code",
   "execution_count": 98,
   "id": "cb71592c",
   "metadata": {},
   "outputs": [
    {
     "data": {
      "text/html": [
       "<div>\n",
       "<style scoped>\n",
       "    .dataframe tbody tr th:only-of-type {\n",
       "        vertical-align: middle;\n",
       "    }\n",
       "\n",
       "    .dataframe tbody tr th {\n",
       "        vertical-align: top;\n",
       "    }\n",
       "\n",
       "    .dataframe thead th {\n",
       "        text-align: right;\n",
       "    }\n",
       "</style>\n",
       "<table border=\"1\" class=\"dataframe\">\n",
       "  <thead>\n",
       "    <tr style=\"text-align: right;\">\n",
       "      <th></th>\n",
       "      <th>Status</th>\n",
       "      <th>Percent</th>\n",
       "    </tr>\n",
       "  </thead>\n",
       "  <tbody>\n",
       "    <tr>\n",
       "      <th>0</th>\n",
       "      <td>Employed</td>\n",
       "      <td>95.19791</td>\n",
       "    </tr>\n",
       "    <tr>\n",
       "      <th>1</th>\n",
       "      <td>Unemployed</td>\n",
       "      <td>4.80209</td>\n",
       "    </tr>\n",
       "  </tbody>\n",
       "</table>\n",
       "</div>"
      ],
      "text/plain": [
       "       Status   Percent\n",
       "0    Employed  95.19791\n",
       "1  Unemployed   4.80209"
      ]
     },
     "execution_count": 98,
     "metadata": {},
     "output_type": "execute_result"
    }
   ],
   "source": [
    "e = df2.employed.sum()\n",
    "u = df2.unemployed.sum()\n",
    "t = pd.DataFrame()\n",
    "t['Status'] = [\"Employed\", \"Unemployed\"]\n",
    "t['Percent'] = [e/(e+u)*100, u/(e+u)*100]\n",
    "t"
   ]
  },
  {
   "cell_type": "markdown",
   "id": "dab92eb3",
   "metadata": {},
   "source": [
    "This indicates that most people surveyed employed in 2008 stayed employed in 2009."
   ]
  },
  {
   "cell_type": "markdown",
   "id": "d3496593",
   "metadata": {},
   "source": [
    "### 2.2"
   ]
  },
  {
   "cell_type": "code",
   "execution_count": 99,
   "id": "a66beaaa",
   "metadata": {},
   "outputs": [
    {
     "name": "stdout",
     "output_type": "stream",
     "text": [
      "                            OLS Regression Results                            \n",
      "==============================================================================\n",
      "Dep. Variable:               employed   R-squared:                       0.020\n",
      "Model:                            OLS   Adj. R-squared:                  0.019\n",
      "Method:                 Least Squares   F-statistic:                     37.41\n",
      "Date:                Thu, 05 May 2022   Prob (F-statistic):           7.33e-17\n",
      "Time:                        05:11:17   Log-Likelihood:                -1628.7\n",
      "No. Observations:                5412   AIC:                             3263.\n",
      "Df Residuals:                    5409   BIC:                             3283.\n",
      "Df Model:                           2                                         \n",
      "Covariance Type:                  HC3                                         \n",
      "===============================================================================\n",
      "                  coef    std err          z      P>|z|      [0.025      0.975]\n",
      "-------------------------------------------------------------------------------\n",
      "Intercept       0.3075      0.067      4.593      0.000       0.176       0.439\n",
      "age             0.0283      0.003      8.606      0.000       0.022       0.035\n",
      "I(age ** 2)    -0.0003   3.88e-05     -8.415      0.000      -0.000      -0.000\n",
      "==============================================================================\n",
      "Omnibus:                     2193.252   Durbin-Watson:                   1.911\n",
      "Prob(Omnibus):                  0.000   Jarque-Bera (JB):             6593.720\n",
      "Skew:                          -2.215   Prob(JB):                         0.00\n",
      "Kurtosis:                       6.100   Cond. No.                     2.68e+04\n",
      "==============================================================================\n",
      "\n",
      "Notes:\n",
      "[1] Standard Errors are heteroscedasticity robust (HC3)\n",
      "[2] The condition number is large, 2.68e+04. This might indicate that there are\n",
      "strong multicollinearity or other numerical problems.\n"
     ]
    }
   ],
   "source": [
    "reg_lin = smf.formula.ols(formula='employed ~ age + I(age**2)', data=df2)\n",
    "results_lin = reg_lin.fit(cov_type = 'HC3')\n",
    "print(results_lin.summary())"
   ]
  },
  {
   "cell_type": "markdown",
   "id": "5de99a44",
   "metadata": {},
   "source": [
    "There is evidence that age is a determinant to employment in 2009 given the small p-value. Similarily, there's evidence that age^2 affected the probability. "
   ]
  },
  {
   "cell_type": "code",
   "execution_count": 100,
   "id": "009c24d8",
   "metadata": {},
   "outputs": [
    {
     "data": {
      "image/png": "[encoded data removed]",
      "text/plain": [
       "<Figure size 640x480 with 1 Axes>"
      ]
     },
     "metadata": {},
     "output_type": "display_data"
    },
    {
     "data": {
      "text/plain": [
       "<ggplot: (704377352)>"
      ]
     },
     "execution_count": 100,
     "metadata": {},
     "output_type": "execute_result"
    }
   ],
   "source": [
    "pred = pd.DataFrame()\n",
    "pred['age'] = np.arange(0, 100)\n",
    "pred['prob_employed'] = results_lin.predict(pred['age'])\n",
    "ggplot(pred, aes('age', 'prob_employed')) + geom_line()"
   ]
  },
  {
   "cell_type": "markdown",
   "id": "808ee186",
   "metadata": {},
   "source": [
    "### 2.3"
   ]
  },
  {
   "cell_type": "code",
   "execution_count": 113,
   "id": "45bdf94a",
   "metadata": {
    "scrolled": true
   },
   "outputs": [
    {
     "name": "stdout",
     "output_type": "stream",
     "text": [
      "                           Logit Regression Results                           \n",
      "==============================================================================\n",
      "Dep. Variable:               employed   No. Observations:                 5412\n",
      "Model:                          Logit   Df Residuals:                     5409\n",
      "Method:                           MLE   Df Model:                            2\n",
      "Date:                Thu, 05 May 2022   Pseudo R-squ.:                 0.02349\n",
      "Time:                        05:43:58   Log-Likelihood:                -1986.4\n",
      "converged:                       True   LL-Null:                       -2034.2\n",
      "Covariance Type:            nonrobust   LLR p-value:                 1.775e-21\n",
      "===============================================================================\n",
      "                  coef    std err          z      P>|z|      [0.025      0.975]\n",
      "-------------------------------------------------------------------------------\n",
      "Intercept      -2.4898      0.437     -5.692      0.000      -3.347      -1.632\n",
      "age             0.2255      0.023      9.885      0.000       0.181       0.270\n",
      "I(age ** 2)    -0.0026      0.000     -9.518      0.000      -0.003      -0.002\n",
      "===============================================================================\n"
     ]
    }
   ],
   "source": [
    "reg_logit = smf.formula.logit(formula = 'employed ~ age + I(age**2)', data = df2)\n",
    "results_logit = reg_logit.fit(disp = 0)\n",
    "print(results_logit.summary())"
   ]
  },
  {
   "cell_type": "code",
   "execution_count": 114,
   "id": "3c03c9f4",
   "metadata": {},
   "outputs": [
    {
     "name": "stdout",
     "output_type": "stream",
     "text": [
      "Optimization terminated successfully.\n",
      "         Current function value: 0.361121\n",
      "         Iterations 6\n",
      "                           Logit Regression Results                           \n",
      "==============================================================================\n",
      "Dep. Variable:               employed   No. Observations:                 5412\n",
      "Model:                          Logit   Df Residuals:                     5397\n",
      "Method:                           MLE   Df Model:                           14\n",
      "Date:                Thu, 05 May 2022   Pseudo R-squ.:                 0.03924\n",
      "Time:                        05:44:08   Log-Likelihood:                -1954.4\n",
      "converged:                       True   LL-Null:                       -2034.2\n",
      "Covariance Type:                  HC1   LLR p-value:                 8.342e-27\n",
      "================================================================================\n",
      "                   coef    std err          z      P>|z|      [0.025      0.975]\n",
      "--------------------------------------------------------------------------------\n",
      "Intercept       -1.3754   7.21e+12  -1.91e-13      1.000   -1.41e+13    1.41e+13\n",
      "age              0.1981      0.035      5.653      0.000       0.129       0.267\n",
      "I(age ** 2)     -0.0024      0.000     -5.653      0.000      -0.003      -0.002\n",
      "earnwke          0.0004      0.000      3.172      0.002       0.000       0.001\n",
      "race            -0.1250      0.069     -1.806      0.071      -0.261       0.011\n",
      "married          0.0279      0.096      0.290      0.772      -0.161       0.217\n",
      "female          -0.1245      0.087     -1.426      0.154      -0.296       0.047\n",
      "ne_states       -0.4311   7.21e+12  -5.98e-14      1.000   -1.41e+13    1.41e+13\n",
      "so_states       -0.3153   7.21e+12  -4.37e-14      1.000   -1.41e+13    1.41e+13\n",
      "ce_states       -0.1277   7.21e+12  -1.77e-14      1.000   -1.41e+13    1.41e+13\n",
      "we_states       -0.5013   7.21e+12  -6.95e-14      1.000   -1.41e+13    1.41e+13\n",
      "educ_lths       -0.6605   1.14e+06  -5.78e-07      1.000   -2.24e+06    2.24e+06\n",
      "educ_hs         -0.3214        nan        nan        nan         nan         nan\n",
      "educ_somecol    -0.1037   1.84e+06  -5.63e-08      1.000   -3.61e+06    3.61e+06\n",
      "educ_aa          0.0192   1.36e+06   1.41e-08      1.000   -2.66e+06    2.66e+06\n",
      "educ_bac        -0.2392   1.58e+06  -1.52e-07      1.000   -3.09e+06    3.09e+06\n",
      "educ_adv        -0.0698   1.65e+06  -4.24e-08      1.000   -3.23e+06    3.23e+06\n",
      "================================================================================\n"
     ]
    }
   ],
   "source": [
    "reg_logit = smf.formula.logit(formula = 'employed ~ age + I(age**2) + earnwke + race + married + female + ne_states + so_states + ce_states + we_states + educ_lths + educ_hs + educ_somecol + educ_aa + educ_bac + educ_adv', data = df2)\n",
    "results_logit = reg_logit.fit(disp = True, cov_type = 'HC1')\n",
    "print(results_logit.summary())"
   ]
  },
  {
   "cell_type": "markdown",
   "id": "173d3b74",
   "metadata": {},
   "source": [
    "It seems like you more likely employed if you earned a lot and you were older (to a certain extent until the age^2 coefficent took over). Being nonwhite lowered your employment probability. "
   ]
  },
  {
   "cell_type": "markdown",
   "id": "a2733e83",
   "metadata": {},
   "source": [
    "### 2.4"
   ]
  },
  {
   "cell_type": "code",
   "execution_count": 115,
   "id": "a2d6f5d6",
   "metadata": {
    "scrolled": false
   },
   "outputs": [
    {
     "name": "stdout",
     "output_type": "stream",
     "text": [
      "Optimization terminated successfully.\n",
      "         Current function value: 0.174155\n",
      "         Iterations 8\n",
      "                           Logit Regression Results                           \n",
      "==============================================================================\n",
      "Dep. Variable:             unemployed   No. Observations:                 5412\n",
      "Model:                          Logit   Df Residuals:                     5397\n",
      "Method:                           MLE   Df Model:                           14\n",
      "Date:                Thu, 05 May 2022   Pseudo R-squ.:                 0.03755\n",
      "Time:                        05:44:19   Log-Likelihood:                -942.53\n",
      "converged:                       True   LL-Null:                       -979.30\n",
      "Covariance Type:                  HC1   LLR p-value:                 4.370e-10\n",
      "================================================================================\n",
      "                   coef    std err          z      P>|z|      [0.025      0.975]\n",
      "--------------------------------------------------------------------------------\n",
      "Intercept       -0.6903   1.24e+07  -5.56e-08      1.000   -2.43e+07    2.43e+07\n",
      "age             -0.1002      0.046     -2.155      0.031      -0.191      -0.009\n",
      "I(age ** 2)      0.0012      0.001      2.124      0.034    9.05e-05       0.002\n",
      "earnwke       1.802e-05      0.000      0.108      0.914      -0.000       0.000\n",
      "race             0.1481      0.109      1.361      0.174      -0.065       0.361\n",
      "married         -0.4185      0.152     -2.759      0.006      -0.716      -0.121\n",
      "female          -0.3620      0.140     -2.577      0.010      -0.637      -0.087\n",
      "ne_states       -0.3578        nan        nan        nan         nan         nan\n",
      "so_states       -0.1350   3.16e+06  -4.28e-08      1.000   -6.19e+06    6.19e+06\n",
      "ce_states       -0.1775        nan        nan        nan         nan         nan\n",
      "we_states       -0.0201   4.11e+06  -4.88e-09      1.000   -8.06e+06    8.06e+06\n",
      "educ_lths        0.6675        nan        nan        nan         nan         nan\n",
      "educ_hs          0.2501   2.01e+06   1.24e-07      1.000   -3.94e+06    3.94e+06\n",
      "educ_somecol    -0.2143        nan        nan        nan         nan         nan\n",
      "educ_aa         -0.3682   5.45e+06  -6.75e-08      1.000   -1.07e+07    1.07e+07\n",
      "educ_bac        -0.2874        nan        nan        nan         nan         nan\n",
      "educ_adv        -0.7379    3.6e+06  -2.05e-07      1.000   -7.06e+06    7.06e+06\n",
      "================================================================================\n"
     ]
    }
   ],
   "source": [
    "reg_logit = smf.formula.logit(formula = 'unemployed ~ age + I(age**2) + earnwke + race + married + female + ne_states + so_states + ce_states + we_states + educ_lths + educ_hs + educ_somecol + educ_aa + educ_bac + educ_adv', data = df2)\n",
    "results_logit = reg_logit.fit(disp = True, cov_type = 'HC1')\n",
    "print(results_logit.summary())"
   ]
  },
  {
   "cell_type": "markdown",
   "id": "1e565d47",
   "metadata": {},
   "source": [
    "This model is telling us that being married and female decreases the probability of being unemployed. Age also decreases your liklihood of being employed to a certain point. \n",
    "\n",
    "Overall, there seems to be specification issues with this model, and likely the one above too, perhaps it has to do with the data being too many binary variables or statsmodels implementation of logit."
   ]
  },
  {
   "cell_type": "code",
   "execution_count": 112,
   "id": "48f7c194",
   "metadata": {
    "scrolled": true
   },
   "outputs": [
    {
     "data": {
      "text/plain": [
       "array([ 3.48060642e+27,  8.96100017e-05,  2.83023695e-08,  1.61770227e-02,\n",
       "        2.08954501e-02,  1.95800150e-02,  3.48060642e+27,  3.48060642e+27,\n",
       "        3.48060642e+27,  3.48060642e+27, -4.57354403e+12,  1.96942725e+13,\n",
       "        7.48081123e+12,  3.24108147e+13,  8.16793245e+12,  8.83678022e+12])"
      ]
     },
     "execution_count": 112,
     "metadata": {},
     "output_type": "execute_result"
    }
   ],
   "source": [
    "np.diagonal(results_logit.cov_params())"
   ]
  }
 ],
 "metadata": {
  "kernelspec": {
   "display_name": "Python 3 (ipykernel)",
   "language": "python",
   "name": "python3"
  },
  "language_info": {
   "codemirror_mode": {
    "name": "ipython",
    "version": 3
   },
   "file_extension": ".py",
   "mimetype": "text/x-python",
   "name": "python",
   "nbconvert_exporter": "python",
   "pygments_lexer": "ipython3",
   "version": "3.10.4"
  }
 },
 "nbformat": 4,
 "nbformat_minor": 5
}
