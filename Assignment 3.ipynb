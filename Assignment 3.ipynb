{
 "cells": [
  {
   "cell_type": "markdown",
   "id": "af981260-ab98-46fd-b046-ed774764cee3",
   "metadata": {},
   "source": [
    "# 1"
   ]
  },
  {
   "cell_type": "markdown",
   "id": "a0f8d4a7-2edd-4c3d-9c80-beb6e19a2f8c",
   "metadata": {},
   "source": [
    "I will be using using the ICE BofA US High Yield Index Effective Yield data from FRED. "
   ]
  },
  {
   "cell_type": "code",
   "execution_count": 1,
   "id": "67542a1b-f1ae-4ee9-8090-49ef314bbbb4",
   "metadata": {},
   "outputs": [],
   "source": [
    "import pandas as pd\n",
    "import numpy as np\n",
    "from IPython.core.pylabtools import figsize\n",
    "figsize(20, 5)\n",
    "from fredapi import Fred\n",
    "fred = Fred(api_key_file='FREDKEY.txt')"
   ]
  },
  {
   "cell_type": "code",
   "execution_count": 2,
   "id": "b219bc79-4057-481f-ba20-c7766932924c",
   "metadata": {},
   "outputs": [],
   "source": [
    "data_raw = fred.get_series('BAMLH0A0HYM2EY')"
   ]
  },
  {
   "cell_type": "code",
   "execution_count": 3,
   "id": "1196b461-b768-4e9b-bd8d-b9ccc9fe5dd3",
   "metadata": {},
   "outputs": [
    {
     "data": {
      "text/html": [
       "<div>\n",
       "<style scoped>\n",
       "    .dataframe tbody tr th:only-of-type {\n",
       "        vertical-align: middle;\n",
       "    }\n",
       "\n",
       "    .dataframe tbody tr th {\n",
       "        vertical-align: top;\n",
       "    }\n",
       "\n",
       "    .dataframe thead th {\n",
       "        text-align: right;\n",
       "    }\n",
       "</style>\n",
       "<table border=\"1\" class=\"dataframe\">\n",
       "  <thead>\n",
       "    <tr style=\"text-align: right;\">\n",
       "      <th></th>\n",
       "      <th>Date</th>\n",
       "      <th>Effective Yield %</th>\n",
       "    </tr>\n",
       "  </thead>\n",
       "  <tbody>\n",
       "    <tr>\n",
       "      <th>0</th>\n",
       "      <td>1996-12-31</td>\n",
       "      <td>9.55</td>\n",
       "    </tr>\n",
       "    <tr>\n",
       "      <th>1</th>\n",
       "      <td>1997-01-01</td>\n",
       "      <td>NaN</td>\n",
       "    </tr>\n",
       "    <tr>\n",
       "      <th>2</th>\n",
       "      <td>1997-01-02</td>\n",
       "      <td>9.57</td>\n",
       "    </tr>\n",
       "  </tbody>\n",
       "</table>\n",
       "</div>"
      ],
      "text/plain": [
       "        Date  Effective Yield %\n",
       "0 1996-12-31               9.55\n",
       "1 1997-01-01                NaN\n",
       "2 1997-01-02               9.57"
      ]
     },
     "execution_count": 3,
     "metadata": {},
     "output_type": "execute_result"
    }
   ],
   "source": [
    "data = pd.DataFrame(data_raw).reset_index()\n",
    "data.columns = [\"Date\", \"Effective Yield %\"]\n",
    "data.head(3)"
   ]
  },
  {
   "cell_type": "code",
   "execution_count": 4,
   "id": "c143e0f5-87f6-4020-8062-2c2c5cacd6b8",
   "metadata": {},
   "outputs": [
    {
     "data": {
      "text/html": [
       "<div>\n",
       "<style scoped>\n",
       "    .dataframe tbody tr th:only-of-type {\n",
       "        vertical-align: middle;\n",
       "    }\n",
       "\n",
       "    .dataframe tbody tr th {\n",
       "        vertical-align: top;\n",
       "    }\n",
       "\n",
       "    .dataframe thead th {\n",
       "        text-align: right;\n",
       "    }\n",
       "</style>\n",
       "<table border=\"1\" class=\"dataframe\">\n",
       "  <thead>\n",
       "    <tr style=\"text-align: right;\">\n",
       "      <th></th>\n",
       "      <th>Date</th>\n",
       "      <th>Effective Yield %</th>\n",
       "    </tr>\n",
       "  </thead>\n",
       "  <tbody>\n",
       "    <tr>\n",
       "      <th>6673</th>\n",
       "      <td>2022-04-01</td>\n",
       "      <td>5.86</td>\n",
       "    </tr>\n",
       "    <tr>\n",
       "      <th>6674</th>\n",
       "      <td>2022-04-04</td>\n",
       "      <td>5.80</td>\n",
       "    </tr>\n",
       "    <tr>\n",
       "      <th>6675</th>\n",
       "      <td>2022-04-05</td>\n",
       "      <td>5.88</td>\n",
       "    </tr>\n",
       "  </tbody>\n",
       "</table>\n",
       "</div>"
      ],
      "text/plain": [
       "           Date  Effective Yield %\n",
       "6673 2022-04-01               5.86\n",
       "6674 2022-04-04               5.80\n",
       "6675 2022-04-05               5.88"
      ]
     },
     "execution_count": 4,
     "metadata": {},
     "output_type": "execute_result"
    }
   ],
   "source": [
    "data.tail(3)"
   ]
  },
  {
   "cell_type": "markdown",
   "id": "26c33218-f68b-44de-ba55-ae0a093d644e",
   "metadata": {},
   "source": [
    "There are NaN and dates missing. We will fill those in.\n"
   ]
  },
  {
   "cell_type": "code",
   "execution_count": 5,
   "id": "9cffdf8c-035c-4399-95b4-6ea8ca48547b",
   "metadata": {},
   "outputs": [],
   "source": [
    "data = data.fillna(method = \"ffill\")\n",
    "idx = pd.date_range('1996-12-31', '2022-04-05')\n",
    "data = data.set_index(\"Date\")\n",
    "data.index = pd.DatetimeIndex(data.index)\n",
    "data = data.reindex(idx, method = 'ffill')\n",
    "data = data.reset_index()\n",
    "data.columns = [\"Date\", \"Effective Yield %\"]"
   ]
  },
  {
   "cell_type": "code",
   "execution_count": 6,
   "id": "81149c8d-cddb-4de0-98d8-0ffecabb647b",
   "metadata": {},
   "outputs": [
    {
     "data": {
      "text/html": [
       "<div>\n",
       "<style scoped>\n",
       "    .dataframe tbody tr th:only-of-type {\n",
       "        vertical-align: middle;\n",
       "    }\n",
       "\n",
       "    .dataframe tbody tr th {\n",
       "        vertical-align: top;\n",
       "    }\n",
       "\n",
       "    .dataframe thead th {\n",
       "        text-align: right;\n",
       "    }\n",
       "</style>\n",
       "<table border=\"1\" class=\"dataframe\">\n",
       "  <thead>\n",
       "    <tr style=\"text-align: right;\">\n",
       "      <th></th>\n",
       "      <th>Date</th>\n",
       "      <th>Effective Yield %</th>\n",
       "    </tr>\n",
       "  </thead>\n",
       "  <tbody>\n",
       "    <tr>\n",
       "      <th>0</th>\n",
       "      <td>1996-12-31</td>\n",
       "      <td>9.55</td>\n",
       "    </tr>\n",
       "    <tr>\n",
       "      <th>1</th>\n",
       "      <td>1997-01-01</td>\n",
       "      <td>9.55</td>\n",
       "    </tr>\n",
       "    <tr>\n",
       "      <th>2</th>\n",
       "      <td>1997-01-02</td>\n",
       "      <td>9.57</td>\n",
       "    </tr>\n",
       "  </tbody>\n",
       "</table>\n",
       "</div>"
      ],
      "text/plain": [
       "        Date  Effective Yield %\n",
       "0 1996-12-31               9.55\n",
       "1 1997-01-01               9.55\n",
       "2 1997-01-02               9.57"
      ]
     },
     "execution_count": 6,
     "metadata": {},
     "output_type": "execute_result"
    }
   ],
   "source": [
    "data.head(3)"
   ]
  },
  {
   "cell_type": "code",
   "execution_count": 7,
   "id": "35669967-9b0f-4f87-bbac-a385b1eed21f",
   "metadata": {},
   "outputs": [
    {
     "data": {
      "text/html": [
       "<div>\n",
       "<style scoped>\n",
       "    .dataframe tbody tr th:only-of-type {\n",
       "        vertical-align: middle;\n",
       "    }\n",
       "\n",
       "    .dataframe tbody tr th {\n",
       "        vertical-align: top;\n",
       "    }\n",
       "\n",
       "    .dataframe thead th {\n",
       "        text-align: right;\n",
       "    }\n",
       "</style>\n",
       "<table border=\"1\" class=\"dataframe\">\n",
       "  <thead>\n",
       "    <tr style=\"text-align: right;\">\n",
       "      <th></th>\n",
       "      <th>Date</th>\n",
       "      <th>Effective Yield %</th>\n",
       "    </tr>\n",
       "  </thead>\n",
       "  <tbody>\n",
       "    <tr>\n",
       "      <th>9224</th>\n",
       "      <td>2022-04-03</td>\n",
       "      <td>5.86</td>\n",
       "    </tr>\n",
       "    <tr>\n",
       "      <th>9225</th>\n",
       "      <td>2022-04-04</td>\n",
       "      <td>5.80</td>\n",
       "    </tr>\n",
       "    <tr>\n",
       "      <th>9226</th>\n",
       "      <td>2022-04-05</td>\n",
       "      <td>5.88</td>\n",
       "    </tr>\n",
       "  </tbody>\n",
       "</table>\n",
       "</div>"
      ],
      "text/plain": [
       "           Date  Effective Yield %\n",
       "9224 2022-04-03               5.86\n",
       "9225 2022-04-04               5.80\n",
       "9226 2022-04-05               5.88"
      ]
     },
     "execution_count": 7,
     "metadata": {},
     "output_type": "execute_result"
    }
   ],
   "source": [
    "data.tail(3)"
   ]
  },
  {
   "cell_type": "markdown",
   "id": "c158cc9b-30e6-497f-886f-36018d7638c3",
   "metadata": {},
   "source": [
    "# 2"
   ]
  },
  {
   "cell_type": "code",
   "execution_count": 8,
   "id": "f8589d20-ca6a-4364-94d9-6b252b30911e",
   "metadata": {},
   "outputs": [],
   "source": [
    "import matplotlib.pyplot as plt\n",
    "import seaborn as sns"
   ]
  },
  {
   "cell_type": "code",
   "execution_count": 65,
   "id": "311a12c1-c786-49b3-8b0f-d5b918fdb031",
   "metadata": {},
   "outputs": [
    {
     "data": {
      "image/png": "[encoded data removed]",
      "text/plain": [
       "<Figure size 1440x360 with 1 Axes>"
      ]
     },
     "metadata": {
      "needs_background": "light"
     },
     "output_type": "display_data"
    }
   ],
   "source": [
    "fig = sns.lineplot(x='Date', y=\"Effective Yield %\", data=data).set(title = \"ICE BofA US High Yield Index Effective Yield\")\n",
    "plt.show()"
   ]
  },
  {
   "cell_type": "markdown",
   "id": "1f2d7a8c-85f7-401f-aed3-2dcb61fe57d1",
   "metadata": {},
   "source": [
    "We can see from the graph above that the range is around 4 to 23, there is a large peak following the 2008 recession, and usually the line is mostly flat. Some of the upward spikes peak correlate with recessions such as 01, 08, and 2020, but there is also a spike in 2016 when the fed raised rates for the first time since the 08 recession. The effective yield around 2009 is the highest it's ever been and never went back to that level. It seems like recessions cause effective yields to increase and afterwards it trends towards prerecession levels. The covid pandemic caused a spike in effective yield, but it quickly came down again. Effective yield seems to be rising at the recent end."
   ]
  },
  {
   "cell_type": "markdown",
   "id": "3bc0707d-a784-4688-b192-a0ac1b569d9a",
   "metadata": {},
   "source": [
    "# 3"
   ]
  },
  {
   "cell_type": "code",
   "execution_count": 10,
   "id": "33cb8efb-d040-4501-9707-40223bea367f",
   "metadata": {},
   "outputs": [],
   "source": [
    "import statsmodels.api as sm\n",
    "from statsmodels.graphics import tsaplots"
   ]
  },
  {
   "cell_type": "code",
   "execution_count": 66,
   "id": "063939b0-853a-4146-9712-a32f4987f29e",
   "metadata": {},
   "outputs": [
    {
     "data": {
      "image/png": "[encoded data removed]",
      "text/plain": [
       "<Figure size 1440x360 with 1 Axes>"
      ]
     },
     "metadata": {
      "needs_background": "light"
     },
     "output_type": "display_data"
    }
   ],
   "source": [
    "fig = tsaplots.plot_acf(data[\"Effective Yield %\"], lags = 20)\n",
    "plt.show()"
   ]
  },
  {
   "cell_type": "code",
   "execution_count": 67,
   "id": "09c6e34b-4036-4d02-85ad-e9ab0449ab99",
   "metadata": {},
   "outputs": [
    {
     "data": {
      "image/png": "[encoded data removed]",
      "text/plain": [
       "<Figure size 1440x360 with 1 Axes>"
      ]
     },
     "metadata": {
      "needs_background": "light"
     },
     "output_type": "display_data"
    }
   ],
   "source": [
    "fig = tsaplots.plot_acf(data[data[\"Date\"] <= \"2019-12-31\"][\"Effective Yield %\"], lags = 20, title = \"Autocorrelation excluding pandemic\")\n",
    "plt.show()"
   ]
  },
  {
   "cell_type": "markdown",
   "id": "2bc06ccd-72d6-4bd5-8310-7e5c40260b16",
   "metadata": {},
   "source": [
    "The autocorrelation function isn't greatly impacted when including post 2020 data. So, we will use the full data set. \n",
    "Upon examining the graph, we see that the ACF is hovering very close to 1 for up to 20 lags. So, this means that the data is generally constant across periods. This matches what we see on the graph of the time series. "
   ]
  },
  {
   "cell_type": "markdown",
   "id": "51da3883-404b-44fd-aeea-ca5838ee1728",
   "metadata": {},
   "source": [
    "# 4"
   ]
  },
  {
   "cell_type": "code",
   "execution_count": 13,
   "id": "4c55ad30-5bbe-42ae-9444-2d57fb5c362c",
   "metadata": {
    "tags": []
   },
   "outputs": [],
   "source": [
    "#Credits to https://www.hackdeploy.com/augmented-dickey-fuller-test-in-python/\n",
    "from statsmodels.tsa.stattools import adfuller\n",
    "class StationarityTests:\n",
    "    def __init__(self, significance=.05):\n",
    "        self.SignificanceLevel = significance\n",
    "        self.pValue = None\n",
    "        self.isStationary = None\n",
    "    def ADF_Stationarity_Test(self, timeseries, printResults = True, regression = 'ct'): #default is constant and trend;\n",
    "        # statsmodel doesn't seem to have implemented a test for drift?\n",
    "        #Dickey-Fuller test:\n",
    "        adfTest = adfuller(timeseries, autolag='AIC', regression = regression) #Uses Akaike Information Criterion to choose lag\n",
    "        \n",
    "        self.pValue = adfTest[1]\n",
    "        \n",
    "        if (self.pValue<self.SignificanceLevel):\n",
    "            self.isStationary = True\n",
    "        else:\n",
    "            self.isStationary = False\n",
    "        \n",
    "        if printResults:\n",
    "            dfResults = pd.Series(adfTest[0:4], index=['ADF Test Statistic','P-Value','# Lags Used','# Observations Used'])\n",
    "\n",
    "            #Add Critical Values\n",
    "            for key,value in adfTest[4].items():\n",
    "                dfResults['Critical Value (%s)'%key] = value\n",
    "\n",
    "            print('Augmented Dickey-Fuller Test Results:')\n",
    "            print(dfResults)"
   ]
  },
  {
   "cell_type": "code",
   "execution_count": 14,
   "id": "b88ae068-9ddf-453f-bad8-85e1314bd913",
   "metadata": {},
   "outputs": [
    {
     "name": "stdout",
     "output_type": "stream",
     "text": [
      "Augmented Dickey-Fuller Test Results:\n",
      "ADF Test Statistic        -3.218288\n",
      "P-Value                    0.080819\n",
      "# Lags Used               35.000000\n",
      "# Observations Used     9191.000000\n",
      "Critical Value (1%)       -3.959755\n",
      "Critical Value (5%)       -3.410968\n",
      "Critical Value (10%)      -3.127331\n",
      "dtype: float64\n",
      "Is the time series stationary? False\n"
     ]
    }
   ],
   "source": [
    "sTest = StationarityTests(significance = .05)\n",
    "sTest.ADF_Stationarity_Test(data[\"Effective Yield %\"], printResults = True, regression = 'ct') #testing for trend\n",
    "print(\"Is the time series stationary? {0}\".format(sTest.isStationary))"
   ]
  },
  {
   "cell_type": "markdown",
   "id": "4c5f1ae3-cc4c-41ca-9066-4f705d50f973",
   "metadata": {},
   "source": [
    "I am considering a trend in the ADF test because it seems like overall effective yield has been declining. The p value is greater than .05 so I won't reject the null and effective yield is non-stationary. So, I should use the difference in effective yield from day to day going forward. "
   ]
  },
  {
   "cell_type": "markdown",
   "id": "9243f136-478a-478d-b03b-0edf27b78dd4",
   "metadata": {},
   "source": [
    "# 5"
   ]
  },
  {
   "cell_type": "code",
   "execution_count": 15,
   "id": "6a8fa866-f083-4106-a1eb-a0daca0dbd48",
   "metadata": {},
   "outputs": [
    {
     "data": {
      "text/html": [
       "<div>\n",
       "<style scoped>\n",
       "    .dataframe tbody tr th:only-of-type {\n",
       "        vertical-align: middle;\n",
       "    }\n",
       "\n",
       "    .dataframe tbody tr th {\n",
       "        vertical-align: top;\n",
       "    }\n",
       "\n",
       "    .dataframe thead th {\n",
       "        text-align: right;\n",
       "    }\n",
       "</style>\n",
       "<table border=\"1\" class=\"dataframe\">\n",
       "  <thead>\n",
       "    <tr style=\"text-align: right;\">\n",
       "      <th></th>\n",
       "      <th>Date</th>\n",
       "      <th>Effective Yield %</th>\n",
       "      <th>diff_Effective Yield %</th>\n",
       "    </tr>\n",
       "  </thead>\n",
       "  <tbody>\n",
       "    <tr>\n",
       "      <th>1</th>\n",
       "      <td>1997-01-01</td>\n",
       "      <td>9.55</td>\n",
       "      <td>0.00</td>\n",
       "    </tr>\n",
       "    <tr>\n",
       "      <th>2</th>\n",
       "      <td>1997-01-02</td>\n",
       "      <td>9.57</td>\n",
       "      <td>0.02</td>\n",
       "    </tr>\n",
       "    <tr>\n",
       "      <th>3</th>\n",
       "      <td>1997-01-03</td>\n",
       "      <td>9.58</td>\n",
       "      <td>0.01</td>\n",
       "    </tr>\n",
       "    <tr>\n",
       "      <th>4</th>\n",
       "      <td>1997-01-04</td>\n",
       "      <td>9.58</td>\n",
       "      <td>0.00</td>\n",
       "    </tr>\n",
       "    <tr>\n",
       "      <th>5</th>\n",
       "      <td>1997-01-05</td>\n",
       "      <td>9.58</td>\n",
       "      <td>0.00</td>\n",
       "    </tr>\n",
       "  </tbody>\n",
       "</table>\n",
       "</div>"
      ],
      "text/plain": [
       "        Date  Effective Yield %  diff_Effective Yield %\n",
       "1 1997-01-01               9.55                    0.00\n",
       "2 1997-01-02               9.57                    0.02\n",
       "3 1997-01-03               9.58                    0.01\n",
       "4 1997-01-04               9.58                    0.00\n",
       "5 1997-01-05               9.58                    0.00"
      ]
     },
     "execution_count": 15,
     "metadata": {},
     "output_type": "execute_result"
    }
   ],
   "source": [
    "data_diff = data.copy()\n",
    "data_diff[\"diff_Effective Yield %\"] = data[\"Effective Yield %\"].diff(1)\n",
    "data_diff = data_diff.dropna()\n",
    "data_diff.head()"
   ]
  },
  {
   "cell_type": "code",
   "execution_count": 68,
   "id": "81b8adeb-ca93-48b7-8ba2-25719b4ea761",
   "metadata": {},
   "outputs": [
    {
     "data": {
      "image/png": "[encoded data removed]",
      "text/plain": [
       "<Figure size 1440x360 with 1 Axes>"
      ]
     },
     "metadata": {
      "needs_background": "light"
     },
     "output_type": "display_data"
    }
   ],
   "source": [
    "fig = sns.lineplot(x='Date', y=\"diff_Effective Yield %\", data=data_diff).set(title = \"daily change in ICE BofA US High Yield Index Effective Yield\")\n",
    "plt.show()"
   ]
  },
  {
   "cell_type": "code",
   "execution_count": 17,
   "id": "f4446620-e802-4b16-bb4e-acae58df86de",
   "metadata": {},
   "outputs": [],
   "source": [
    "from statsmodels.tsa.ar_model import AutoReg\n",
    "from sklearn.metrics import mean_squared_error"
   ]
  },
  {
   "cell_type": "code",
   "execution_count": 18,
   "id": "6ff81eef-0cc1-4a63-9d56-a79164cad1ed",
   "metadata": {},
   "outputs": [
    {
     "name": "stdout",
     "output_type": "stream",
     "text": [
      "-23912.012382969875\n"
     ]
    },
    {
     "name": "stderr",
     "output_type": "stream",
     "text": [
      "C:\\Users\\dxli2\\anaconda3\\envs\\metrics\\lib\\site-packages\\statsmodels\\tsa\\base\\tsa_model.py:471: ValueWarning: An unsupported index was provided and will be ignored when e.g. forecasting.\n",
      "  self._init_dates(dates, freq)\n"
     ]
    }
   ],
   "source": [
    "model_1 = AutoReg(data_diff[\"diff_Effective Yield %\"], lags = 1).fit()\n",
    "print(model_1.bic)"
   ]
  },
  {
   "cell_type": "code",
   "execution_count": 19,
   "id": "f9f9deea-070e-47bd-8f22-c2d754a3dc37",
   "metadata": {},
   "outputs": [
    {
     "name": "stdout",
     "output_type": "stream",
     "text": [
      "-23975.523265155625\n"
     ]
    },
    {
     "name": "stderr",
     "output_type": "stream",
     "text": [
      "C:\\Users\\dxli2\\anaconda3\\envs\\metrics\\lib\\site-packages\\statsmodels\\tsa\\base\\tsa_model.py:471: ValueWarning: An unsupported index was provided and will be ignored when e.g. forecasting.\n",
      "  self._init_dates(dates, freq)\n"
     ]
    }
   ],
   "source": [
    "model_4 = AutoReg(data_diff[\"diff_Effective Yield %\"], lags = 4).fit()\n",
    "print(model_4.bic)"
   ]
  },
  {
   "cell_type": "markdown",
   "id": "ca0c8499-7102-42cf-a6ae-dfc6a8da9031",
   "metadata": {},
   "source": [
    "We will choose an AR(4) model."
   ]
  },
  {
   "cell_type": "code",
   "execution_count": 52,
   "id": "2fc70c4d-43a5-4f49-bd50-1740e24e63a1",
   "metadata": {},
   "outputs": [
    {
     "data": {
      "text/html": [
       "<table class=\"simpletable\">\n",
       "<caption>AutoReg Model Results</caption>\n",
       "<tr>\n",
       "  <th>Dep. Variable:</th> <td>diff_Effective Yield %</td> <th>  No. Observations:  </th>    <td>9226</td>   \n",
       "</tr>\n",
       "<tr>\n",
       "  <th>Model:</th>               <td>AutoReg(4)</td>       <th>  Log Likelihood     </th>  <td>12015.150</td>\n",
       "</tr>\n",
       "<tr>\n",
       "  <th>Method:</th>            <td>Conditional MLE</td>    <th>  S.D. of innovations</th>    <td>0.066</td>  \n",
       "</tr>\n",
       "<tr>\n",
       "  <th>Date:</th>             <td>Thu, 07 Apr 2022</td>    <th>  AIC                </th> <td>-24018.299</td>\n",
       "</tr>\n",
       "<tr>\n",
       "  <th>Time:</th>                 <td>01:59:35</td>        <th>  BIC                </th> <td>-23975.523</td>\n",
       "</tr>\n",
       "<tr>\n",
       "  <th>Sample:</th>                   <td>4</td>           <th>  HQIC               </th> <td>-24003.761</td>\n",
       "</tr>\n",
       "<tr>\n",
       "  <th></th>                        <td>9226</td>          <th>                     </th>      <td> </td>    \n",
       "</tr>\n",
       "</table>\n",
       "<table class=\"simpletable\">\n",
       "<tr>\n",
       "              <td></td>                 <th>coef</th>     <th>std err</th>      <th>z</th>      <th>P>|z|</th>  <th>[0.025</th>    <th>0.975]</th>  \n",
       "</tr>\n",
       "<tr>\n",
       "  <th>const</th>                     <td>   -0.0002</td> <td>    0.001</td> <td>   -0.335</td> <td> 0.738</td> <td>   -0.002</td> <td>    0.001</td>\n",
       "</tr>\n",
       "<tr>\n",
       "  <th>diff_Effective Yield %.L1</th> <td>    0.2907</td> <td>    0.010</td> <td>   27.927</td> <td> 0.000</td> <td>    0.270</td> <td>    0.311</td>\n",
       "</tr>\n",
       "<tr>\n",
       "  <th>diff_Effective Yield %.L2</th> <td>    0.0232</td> <td>    0.011</td> <td>    2.143</td> <td> 0.032</td> <td>    0.002</td> <td>    0.044</td>\n",
       "</tr>\n",
       "<tr>\n",
       "  <th>diff_Effective Yield %.L3</th> <td>    0.0779</td> <td>    0.011</td> <td>    7.206</td> <td> 0.000</td> <td>    0.057</td> <td>    0.099</td>\n",
       "</tr>\n",
       "<tr>\n",
       "  <th>diff_Effective Yield %.L4</th> <td>    0.0308</td> <td>    0.010</td> <td>    2.957</td> <td> 0.003</td> <td>    0.010</td> <td>    0.051</td>\n",
       "</tr>\n",
       "</table>\n",
       "<table class=\"simpletable\">\n",
       "<caption>Roots</caption>\n",
       "<tr>\n",
       "    <td></td>   <th>            Real</th>  <th>         Imaginary</th> <th>         Modulus</th>  <th>        Frequency</th>\n",
       "</tr>\n",
       "<tr>\n",
       "  <th>AR.1</th> <td>           1.5685</td> <td>          -0.0000j</td> <td>           1.5685</td> <td>          -0.0000</td>\n",
       "</tr>\n",
       "<tr>\n",
       "  <th>AR.2</th> <td>          -0.2108</td> <td>          -2.3637j</td> <td>           2.3730</td> <td>          -0.2642</td>\n",
       "</tr>\n",
       "<tr>\n",
       "  <th>AR.3</th> <td>          -0.2108</td> <td>          +2.3637j</td> <td>           2.3730</td> <td>           0.2642</td>\n",
       "</tr>\n",
       "<tr>\n",
       "  <th>AR.4</th> <td>          -3.6772</td> <td>          -0.0000j</td> <td>           3.6772</td> <td>          -0.5000</td>\n",
       "</tr>\n",
       "</table>"
      ],
      "text/plain": [
       "<class 'statsmodels.iolib.summary.Summary'>\n",
       "\"\"\"\n",
       "                              AutoReg Model Results                               \n",
       "==================================================================================\n",
       "Dep. Variable:     diff_Effective Yield %   No. Observations:                 9226\n",
       "Model:                         AutoReg(4)   Log Likelihood               12015.150\n",
       "Method:                   Conditional MLE   S.D. of innovations              0.066\n",
       "Date:                    Thu, 07 Apr 2022   AIC                         -24018.299\n",
       "Time:                            01:59:35   BIC                         -23975.523\n",
       "Sample:                                 4   HQIC                        -24003.761\n",
       "                                     9226                                         \n",
       "=============================================================================================\n",
       "                                coef    std err          z      P>|z|      [0.025      0.975]\n",
       "---------------------------------------------------------------------------------------------\n",
       "const                        -0.0002      0.001     -0.335      0.738      -0.002       0.001\n",
       "diff_Effective Yield %.L1     0.2907      0.010     27.927      0.000       0.270       0.311\n",
       "diff_Effective Yield %.L2     0.0232      0.011      2.143      0.032       0.002       0.044\n",
       "diff_Effective Yield %.L3     0.0779      0.011      7.206      0.000       0.057       0.099\n",
       "diff_Effective Yield %.L4     0.0308      0.010      2.957      0.003       0.010       0.051\n",
       "                                    Roots                                    \n",
       "=============================================================================\n",
       "                  Real          Imaginary           Modulus         Frequency\n",
       "-----------------------------------------------------------------------------\n",
       "AR.1            1.5685           -0.0000j            1.5685           -0.0000\n",
       "AR.2           -0.2108           -2.3637j            2.3730           -0.2642\n",
       "AR.3           -0.2108           +2.3637j            2.3730            0.2642\n",
       "AR.4           -3.6772           -0.0000j            3.6772           -0.5000\n",
       "-----------------------------------------------------------------------------\n",
       "\"\"\""
      ]
     },
     "execution_count": 52,
     "metadata": {},
     "output_type": "execute_result"
    }
   ],
   "source": [
    "model_4.summary()"
   ]
  },
  {
   "cell_type": "code",
   "execution_count": 93,
   "id": "580740eb-ff71-4179-8ea2-4973a85b398a",
   "metadata": {},
   "outputs": [
    {
     "data": {
      "text/plain": [
       "[<matplotlib.lines.Line2D at 0x226ec297e20>]"
      ]
     },
     "execution_count": 93,
     "metadata": {},
     "output_type": "execute_result"
    },
    {
     "data": {
      "image/png": "[encoded data removed]",
      "text/plain": [
       "<Figure size 1440x360 with 1 Axes>"
      ]
     },
     "metadata": {
      "needs_background": "light"
     },
     "output_type": "display_data"
    }
   ],
   "source": [
    "predictions = model_4.predict(start = 0, end = len(data_diff[\"diff_Effective Yield %\"]) - 1, dynamic = False)\n",
    "plt.plot(data_diff[\"diff_Effective Yield %\"])\n",
    "plt.plot(predictions, color = 'red')"
   ]
  },
  {
   "cell_type": "markdown",
   "id": "d01de1b1-9331-44e5-beb9-cd9f3e70f13f",
   "metadata": {},
   "source": [
    "The model fits the data relatively well. It generally follows the shape of the data, however it doesn't have as much variance as the data."
   ]
  },
  {
   "cell_type": "markdown",
   "id": "7ff7aaca-1df8-44c4-95d4-e0fd9e3dac47",
   "metadata": {},
   "source": [
    "# 6"
   ]
  },
  {
   "cell_type": "markdown",
   "id": "3ec0369e-e626-4e21-8845-ea157212f5b8",
   "metadata": {},
   "source": [
    "We will add the Federal Funds Effective Rate to the model."
   ]
  },
  {
   "cell_type": "code",
   "execution_count": 22,
   "id": "a36f5b50-4f0c-4f0a-b6b0-90b5b8d1167f",
   "metadata": {},
   "outputs": [],
   "source": [
    "data2_raw = fred.get_series('DFF', observation_start='1996-12-31')"
   ]
  },
  {
   "cell_type": "code",
   "execution_count": 23,
   "id": "20c83301-e6b4-4201-8e2f-389e298b6f75",
   "metadata": {},
   "outputs": [
    {
     "name": "stdout",
     "output_type": "stream",
     "text": [
      "Augmented Dickey-Fuller Test Results:\n",
      "ADF Test Statistic        -1.284657\n",
      "P-Value                    0.891671\n",
      "# Lags Used               35.000000\n",
      "# Observations Used     9191.000000\n",
      "Critical Value (1%)       -3.959755\n",
      "Critical Value (5%)       -3.410968\n",
      "Critical Value (10%)      -3.127331\n",
      "dtype: float64\n",
      "Is the time series stationary? False\n"
     ]
    }
   ],
   "source": [
    "data2 = pd.DataFrame(data2_raw).reset_index()\n",
    "data2.columns = [\"Date\", \"Fed Funds Rate %\"]\n",
    "data2 = data2.ffill()\n",
    "sTest.ADF_Stationarity_Test(data2[\"Fed Funds Rate %\"], printResults = True, regression = 'ct')\n",
    "print(\"Is the time series stationary? {0}\".format(sTest.isStationary))"
   ]
  },
  {
   "cell_type": "markdown",
   "id": "ba4d28e4-896c-481a-a45d-f75d1b126260",
   "metadata": {},
   "source": [
    "We will also use the daily change for the 10 Year yield."
   ]
  },
  {
   "cell_type": "code",
   "execution_count": 24,
   "id": "9d7378ed-8f5c-425c-99d3-817c86b90780",
   "metadata": {},
   "outputs": [
    {
     "data": {
      "text/html": [
       "<div>\n",
       "<style scoped>\n",
       "    .dataframe tbody tr th:only-of-type {\n",
       "        vertical-align: middle;\n",
       "    }\n",
       "\n",
       "    .dataframe tbody tr th {\n",
       "        vertical-align: top;\n",
       "    }\n",
       "\n",
       "    .dataframe thead th {\n",
       "        text-align: right;\n",
       "    }\n",
       "</style>\n",
       "<table border=\"1\" class=\"dataframe\">\n",
       "  <thead>\n",
       "    <tr style=\"text-align: right;\">\n",
       "      <th></th>\n",
       "      <th>Date</th>\n",
       "      <th>Fed Funds Rate %</th>\n",
       "      <th>diff_Fed Funds Rate %</th>\n",
       "    </tr>\n",
       "  </thead>\n",
       "  <tbody>\n",
       "    <tr>\n",
       "      <th>1</th>\n",
       "      <td>1997-01-01</td>\n",
       "      <td>6.26</td>\n",
       "      <td>0.00</td>\n",
       "    </tr>\n",
       "    <tr>\n",
       "      <th>2</th>\n",
       "      <td>1997-01-02</td>\n",
       "      <td>5.79</td>\n",
       "      <td>-0.47</td>\n",
       "    </tr>\n",
       "    <tr>\n",
       "      <th>3</th>\n",
       "      <td>1997-01-03</td>\n",
       "      <td>5.17</td>\n",
       "      <td>-0.62</td>\n",
       "    </tr>\n",
       "  </tbody>\n",
       "</table>\n",
       "</div>"
      ],
      "text/plain": [
       "        Date  Fed Funds Rate %  diff_Fed Funds Rate %\n",
       "1 1997-01-01              6.26                   0.00\n",
       "2 1997-01-02              5.79                  -0.47\n",
       "3 1997-01-03              5.17                  -0.62"
      ]
     },
     "execution_count": 24,
     "metadata": {},
     "output_type": "execute_result"
    }
   ],
   "source": [
    "data2_diff = data2.copy()\n",
    "data2_diff[\"diff_Fed Funds Rate %\"] = data2[\"Fed Funds Rate %\"].diff(1)\n",
    "data2_diff = data2_diff.dropna()\n",
    "data2_diff.head(3)"
   ]
  },
  {
   "cell_type": "code",
   "execution_count": 25,
   "id": "86626ad0-0db1-4aa0-9c77-aceb65087c39",
   "metadata": {},
   "outputs": [
    {
     "data": {
      "text/html": [
       "<div>\n",
       "<style scoped>\n",
       "    .dataframe tbody tr th:only-of-type {\n",
       "        vertical-align: middle;\n",
       "    }\n",
       "\n",
       "    .dataframe tbody tr th {\n",
       "        vertical-align: top;\n",
       "    }\n",
       "\n",
       "    .dataframe thead th {\n",
       "        text-align: right;\n",
       "    }\n",
       "</style>\n",
       "<table border=\"1\" class=\"dataframe\">\n",
       "  <thead>\n",
       "    <tr style=\"text-align: right;\">\n",
       "      <th></th>\n",
       "      <th>Date</th>\n",
       "      <th>Fed Funds Rate %</th>\n",
       "      <th>diff_Fed Funds Rate %</th>\n",
       "    </tr>\n",
       "  </thead>\n",
       "  <tbody>\n",
       "    <tr>\n",
       "      <th>9224</th>\n",
       "      <td>2022-04-03</td>\n",
       "      <td>0.33</td>\n",
       "      <td>0.0</td>\n",
       "    </tr>\n",
       "    <tr>\n",
       "      <th>9225</th>\n",
       "      <td>2022-04-04</td>\n",
       "      <td>0.33</td>\n",
       "      <td>0.0</td>\n",
       "    </tr>\n",
       "    <tr>\n",
       "      <th>9226</th>\n",
       "      <td>2022-04-05</td>\n",
       "      <td>0.33</td>\n",
       "      <td>0.0</td>\n",
       "    </tr>\n",
       "  </tbody>\n",
       "</table>\n",
       "</div>"
      ],
      "text/plain": [
       "           Date  Fed Funds Rate %  diff_Fed Funds Rate %\n",
       "9224 2022-04-03              0.33                    0.0\n",
       "9225 2022-04-04              0.33                    0.0\n",
       "9226 2022-04-05              0.33                    0.0"
      ]
     },
     "execution_count": 25,
     "metadata": {},
     "output_type": "execute_result"
    }
   ],
   "source": [
    "data2_diff.tail(3)"
   ]
  },
  {
   "cell_type": "code",
   "execution_count": 75,
   "id": "a2987024-f96b-4811-bd83-2f3e7c9876c2",
   "metadata": {},
   "outputs": [
    {
     "data": {
      "text/plain": [
       "[<matplotlib.lines.Line2D at 0x226eadc1de0>]"
      ]
     },
     "execution_count": 75,
     "metadata": {},
     "output_type": "execute_result"
    },
    {
     "data": {
      "image/png": "[encoded data removed]",
      "text/plain": [
       "<Figure size 1440x360 with 1 Axes>"
      ]
     },
     "metadata": {
      "needs_background": "light"
     },
     "output_type": "display_data"
    }
   ],
   "source": [
    "plt.plot(data2_diff[\"diff_Fed Funds Rate %\"])"
   ]
  },
  {
   "cell_type": "code",
   "execution_count": 54,
   "id": "54f65ded",
   "metadata": {},
   "outputs": [],
   "source": [
    "data3 = data_diff.merge(data2_diff, on = \"Date\")"
   ]
  },
  {
   "cell_type": "code",
   "execution_count": 123,
   "id": "b0a2d310",
   "metadata": {},
   "outputs": [
    {
     "data": {
      "text/html": [
       "<div>\n",
       "<style scoped>\n",
       "    .dataframe tbody tr th:only-of-type {\n",
       "        vertical-align: middle;\n",
       "    }\n",
       "\n",
       "    .dataframe tbody tr th {\n",
       "        vertical-align: top;\n",
       "    }\n",
       "\n",
       "    .dataframe thead th {\n",
       "        text-align: right;\n",
       "    }\n",
       "</style>\n",
       "<table border=\"1\" class=\"dataframe\">\n",
       "  <thead>\n",
       "    <tr style=\"text-align: right;\">\n",
       "      <th></th>\n",
       "      <th>Date</th>\n",
       "      <th>Effective Yield %</th>\n",
       "      <th>diff_Effective Yield %</th>\n",
       "      <th>Fed Funds Rate %</th>\n",
       "      <th>diff_Fed Funds Rate %</th>\n",
       "    </tr>\n",
       "  </thead>\n",
       "  <tbody>\n",
       "    <tr>\n",
       "      <th>0</th>\n",
       "      <td>1997-01-01</td>\n",
       "      <td>9.55</td>\n",
       "      <td>0.00</td>\n",
       "      <td>6.26</td>\n",
       "      <td>0.00</td>\n",
       "    </tr>\n",
       "    <tr>\n",
       "      <th>1</th>\n",
       "      <td>1997-01-02</td>\n",
       "      <td>9.57</td>\n",
       "      <td>0.02</td>\n",
       "      <td>5.79</td>\n",
       "      <td>-0.47</td>\n",
       "    </tr>\n",
       "    <tr>\n",
       "      <th>2</th>\n",
       "      <td>1997-01-03</td>\n",
       "      <td>9.58</td>\n",
       "      <td>0.01</td>\n",
       "      <td>5.17</td>\n",
       "      <td>-0.62</td>\n",
       "    </tr>\n",
       "    <tr>\n",
       "      <th>3</th>\n",
       "      <td>1997-01-04</td>\n",
       "      <td>9.58</td>\n",
       "      <td>0.00</td>\n",
       "      <td>5.17</td>\n",
       "      <td>0.00</td>\n",
       "    </tr>\n",
       "    <tr>\n",
       "      <th>4</th>\n",
       "      <td>1997-01-05</td>\n",
       "      <td>9.58</td>\n",
       "      <td>0.00</td>\n",
       "      <td>5.17</td>\n",
       "      <td>0.00</td>\n",
       "    </tr>\n",
       "  </tbody>\n",
       "</table>\n",
       "</div>"
      ],
      "text/plain": [
       "        Date  Effective Yield %  diff_Effective Yield %  Fed Funds Rate %  \\\n",
       "0 1997-01-01               9.55                    0.00              6.26   \n",
       "1 1997-01-02               9.57                    0.02              5.79   \n",
       "2 1997-01-03               9.58                    0.01              5.17   \n",
       "3 1997-01-04               9.58                    0.00              5.17   \n",
       "4 1997-01-05               9.58                    0.00              5.17   \n",
       "\n",
       "   diff_Fed Funds Rate %  \n",
       "0                   0.00  \n",
       "1                  -0.47  \n",
       "2                  -0.62  \n",
       "3                   0.00  \n",
       "4                   0.00  "
      ]
     },
     "execution_count": 123,
     "metadata": {},
     "output_type": "execute_result"
    }
   ],
   "source": [
    "data3.head()"
   ]
  },
  {
   "cell_type": "code",
   "execution_count": 124,
   "id": "bdc5facc",
   "metadata": {},
   "outputs": [
    {
     "data": {
      "text/html": [
       "<div>\n",
       "<style scoped>\n",
       "    .dataframe tbody tr th:only-of-type {\n",
       "        vertical-align: middle;\n",
       "    }\n",
       "\n",
       "    .dataframe tbody tr th {\n",
       "        vertical-align: top;\n",
       "    }\n",
       "\n",
       "    .dataframe thead th {\n",
       "        text-align: right;\n",
       "    }\n",
       "</style>\n",
       "<table border=\"1\" class=\"dataframe\">\n",
       "  <thead>\n",
       "    <tr style=\"text-align: right;\">\n",
       "      <th></th>\n",
       "      <th>Date</th>\n",
       "      <th>Effective Yield %</th>\n",
       "      <th>diff_Effective Yield %</th>\n",
       "      <th>Fed Funds Rate %</th>\n",
       "      <th>diff_Fed Funds Rate %</th>\n",
       "    </tr>\n",
       "  </thead>\n",
       "  <tbody>\n",
       "    <tr>\n",
       "      <th>9221</th>\n",
       "      <td>2022-04-01</td>\n",
       "      <td>5.86</td>\n",
       "      <td>0.07</td>\n",
       "      <td>0.33</td>\n",
       "      <td>0.0</td>\n",
       "    </tr>\n",
       "    <tr>\n",
       "      <th>9222</th>\n",
       "      <td>2022-04-02</td>\n",
       "      <td>5.86</td>\n",
       "      <td>0.00</td>\n",
       "      <td>0.33</td>\n",
       "      <td>0.0</td>\n",
       "    </tr>\n",
       "    <tr>\n",
       "      <th>9223</th>\n",
       "      <td>2022-04-03</td>\n",
       "      <td>5.86</td>\n",
       "      <td>0.00</td>\n",
       "      <td>0.33</td>\n",
       "      <td>0.0</td>\n",
       "    </tr>\n",
       "    <tr>\n",
       "      <th>9224</th>\n",
       "      <td>2022-04-04</td>\n",
       "      <td>5.80</td>\n",
       "      <td>-0.06</td>\n",
       "      <td>0.33</td>\n",
       "      <td>0.0</td>\n",
       "    </tr>\n",
       "    <tr>\n",
       "      <th>9225</th>\n",
       "      <td>2022-04-05</td>\n",
       "      <td>5.88</td>\n",
       "      <td>0.08</td>\n",
       "      <td>0.33</td>\n",
       "      <td>0.0</td>\n",
       "    </tr>\n",
       "  </tbody>\n",
       "</table>\n",
       "</div>"
      ],
      "text/plain": [
       "           Date  Effective Yield %  diff_Effective Yield %  Fed Funds Rate %  \\\n",
       "9221 2022-04-01               5.86                    0.07              0.33   \n",
       "9222 2022-04-02               5.86                    0.00              0.33   \n",
       "9223 2022-04-03               5.86                    0.00              0.33   \n",
       "9224 2022-04-04               5.80                   -0.06              0.33   \n",
       "9225 2022-04-05               5.88                    0.08              0.33   \n",
       "\n",
       "      diff_Fed Funds Rate %  \n",
       "9221                    0.0  \n",
       "9222                    0.0  \n",
       "9223                    0.0  \n",
       "9224                    0.0  \n",
       "9225                    0.0  "
      ]
     },
     "execution_count": 124,
     "metadata": {},
     "output_type": "execute_result"
    }
   ],
   "source": [
    "data3.tail()"
   ]
  },
  {
   "cell_type": "code",
   "execution_count": 29,
   "id": "9f1351df",
   "metadata": {},
   "outputs": [],
   "source": [
    "from statsmodels.tsa.api import ARDL"
   ]
  },
  {
   "cell_type": "code",
   "execution_count": 136,
   "id": "90dffe54",
   "metadata": {},
   "outputs": [],
   "source": [
    "model_adl_4_1 = ARDL(data3[\"diff_Effective Yield %\"].values, 4, data3[[\"diff_Fed Funds Rate %\"]].values, 1).fit()"
   ]
  },
  {
   "cell_type": "code",
   "execution_count": 137,
   "id": "391b6944",
   "metadata": {},
   "outputs": [
    {
     "data": {
      "text/plain": [
       "-23961.552115611117"
      ]
     },
     "execution_count": 137,
     "metadata": {},
     "output_type": "execute_result"
    }
   ],
   "source": [
    "model_adl_4_1.bic"
   ]
  },
  {
   "cell_type": "code",
   "execution_count": 60,
   "id": "c71a2b81",
   "metadata": {
    "scrolled": true
   },
   "outputs": [],
   "source": [
    "model_adl_4_4 = ARDL(data3[\"diff_Effective Yield %\"].values, 4, data3[[\"diff_Fed Funds Rate %\"]].values, 4).fit()"
   ]
  },
  {
   "cell_type": "code",
   "execution_count": 139,
   "id": "a9a416f5",
   "metadata": {},
   "outputs": [
    {
     "data": {
      "text/plain": [
       "-23951.30939598642"
      ]
     },
     "execution_count": 139,
     "metadata": {},
     "output_type": "execute_result"
    }
   ],
   "source": [
    "model_adl_4_4.bic"
   ]
  },
  {
   "cell_type": "markdown",
   "id": "e00095a4",
   "metadata": {},
   "source": [
    "The ADL(4,1) is better."
   ]
  },
  {
   "cell_type": "code",
   "execution_count": 140,
   "id": "b35fc061",
   "metadata": {},
   "outputs": [
    {
     "data": {
      "text/html": [
       "<table class=\"simpletable\">\n",
       "<caption>ARDL Model Results</caption>\n",
       "<tr>\n",
       "  <th>Dep. Variable:</th>         <td>y</td>        <th>  No. Observations:  </th>    <td>9226</td>   \n",
       "</tr>\n",
       "<tr>\n",
       "  <th>Model:</th>            <td>ARDL(4, 1)</td>    <th>  Log Likelihood     </th>  <td>12017.293</td>\n",
       "</tr>\n",
       "<tr>\n",
       "  <th>Method:</th>         <td>Conditional MLE</td> <th>  S.D. of innovations</th>    <td>0.066</td>  \n",
       "</tr>\n",
       "<tr>\n",
       "  <th>Date:</th>          <td>Thu, 07 Apr 2022</td> <th>  AIC                </th> <td>-24018.587</td>\n",
       "</tr>\n",
       "<tr>\n",
       "  <th>Time:</th>              <td>02:55:26</td>     <th>  BIC                </th> <td>-23961.552</td>\n",
       "</tr>\n",
       "<tr>\n",
       "  <th>Sample:</th>                <td>4</td>        <th>  HQIC               </th> <td>-23999.203</td>\n",
       "</tr>\n",
       "<tr>\n",
       "  <th></th>                     <td>9226</td>       <th>                     </th>      <td> </td>    \n",
       "</tr>\n",
       "</table>\n",
       "<table class=\"simpletable\">\n",
       "<tr>\n",
       "    <td></td>       <th>coef</th>     <th>std err</th>      <th>z</th>      <th>P>|z|</th>  <th>[0.025</th>    <th>0.975]</th>  \n",
       "</tr>\n",
       "<tr>\n",
       "  <th>const</th> <td>   -0.0002</td> <td>    0.001</td> <td>   -0.349</td> <td> 0.727</td> <td>   -0.002</td> <td>    0.001</td>\n",
       "</tr>\n",
       "<tr>\n",
       "  <th>y.L1</th>  <td>    0.2906</td> <td>    0.010</td> <td>   27.910</td> <td> 0.000</td> <td>    0.270</td> <td>    0.311</td>\n",
       "</tr>\n",
       "<tr>\n",
       "  <th>y.L2</th>  <td>    0.0227</td> <td>    0.011</td> <td>    2.095</td> <td> 0.036</td> <td>    0.001</td> <td>    0.044</td>\n",
       "</tr>\n",
       "<tr>\n",
       "  <th>y.L3</th>  <td>    0.0780</td> <td>    0.011</td> <td>    7.209</td> <td> 0.000</td> <td>    0.057</td> <td>    0.099</td>\n",
       "</tr>\n",
       "<tr>\n",
       "  <th>y.L4</th>  <td>    0.0308</td> <td>    0.010</td> <td>    2.956</td> <td> 0.003</td> <td>    0.010</td> <td>    0.051</td>\n",
       "</tr>\n",
       "<tr>\n",
       "  <th>x0.L0</th> <td>   -0.0158</td> <td>    0.008</td> <td>   -2.063</td> <td> 0.039</td> <td>   -0.031</td> <td>   -0.001</td>\n",
       "</tr>\n",
       "<tr>\n",
       "  <th>x0.L1</th> <td>   -0.0031</td> <td>    0.008</td> <td>   -0.406</td> <td> 0.685</td> <td>   -0.018</td> <td>    0.012</td>\n",
       "</tr>\n",
       "</table>"
      ],
      "text/plain": [
       "<class 'statsmodels.iolib.summary.Summary'>\n",
       "\"\"\"\n",
       "                              ARDL Model Results                              \n",
       "==============================================================================\n",
       "Dep. Variable:                      y   No. Observations:                 9226\n",
       "Model:                     ARDL(4, 1)   Log Likelihood               12017.293\n",
       "Method:               Conditional MLE   S.D. of innovations              0.066\n",
       "Date:                Thu, 07 Apr 2022   AIC                         -24018.587\n",
       "Time:                        02:55:26   BIC                         -23961.552\n",
       "Sample:                             4   HQIC                        -23999.203\n",
       "                                 9226                                         \n",
       "==============================================================================\n",
       "                 coef    std err          z      P>|z|      [0.025      0.975]\n",
       "------------------------------------------------------------------------------\n",
       "const         -0.0002      0.001     -0.349      0.727      -0.002       0.001\n",
       "y.L1           0.2906      0.010     27.910      0.000       0.270       0.311\n",
       "y.L2           0.0227      0.011      2.095      0.036       0.001       0.044\n",
       "y.L3           0.0780      0.011      7.209      0.000       0.057       0.099\n",
       "y.L4           0.0308      0.010      2.956      0.003       0.010       0.051\n",
       "x0.L0         -0.0158      0.008     -2.063      0.039      -0.031      -0.001\n",
       "x0.L1         -0.0031      0.008     -0.406      0.685      -0.018       0.012\n",
       "==============================================================================\n",
       "\"\"\""
      ]
     },
     "execution_count": 140,
     "metadata": {},
     "output_type": "execute_result"
    }
   ],
   "source": [
    "model_adl_4_1.summary()"
   ]
  },
  {
   "cell_type": "code",
   "execution_count": 141,
   "id": "72ff17ac",
   "metadata": {},
   "outputs": [
    {
     "data": {
      "text/plain": [
       "[<matplotlib.lines.Line2D at 0x226e9a8a170>]"
      ]
     },
     "execution_count": 141,
     "metadata": {},
     "output_type": "execute_result"
    },
    {
     "data": {
      "image/png": "[encoded data removed]",
      "text/plain": [
       "<Figure size 1440x360 with 1 Axes>"
      ]
     },
     "metadata": {
      "needs_background": "light"
     },
     "output_type": "display_data"
    }
   ],
   "source": [
    "predictions2 = model_adl_4_1.predict(start = 0, end = len(data_diff[\"diff_Effective Yield %\"]) - 1, dynamic = False)\n",
    "plt.plot(data_diff[\"diff_Effective Yield %\"])\n",
    "plt.plot(predictions, color = 'yellow', alpha = 1)\n",
    "plt.plot(predictions2, color = 'red', alpha = .5)"
   ]
  },
  {
   "cell_type": "markdown",
   "id": "0c3a4001",
   "metadata": {},
   "source": [
    "It seems that the ADL model and the AR model are almost the same as they overlap on the graph. If you look at the p-values of the coefficients of the fed fund rate, the first lag isn't even significant."
   ]
  },
  {
   "cell_type": "markdown",
   "id": "8ac67ba9",
   "metadata": {},
   "source": [
    "# 7"
   ]
  },
  {
   "cell_type": "code",
   "execution_count": 142,
   "id": "971d4f1b",
   "metadata": {},
   "outputs": [
    {
     "name": "stdout",
     "output_type": "stream",
     "text": [
      "0.021636974115552276\n"
     ]
    },
    {
     "name": "stderr",
     "output_type": "stream",
     "text": [
      "C:\\Users\\dxli2\\anaconda3\\envs\\metrics\\lib\\site-packages\\statsmodels\\tsa\\base\\tsa_model.py:834: ValueWarning: No supported index is available. Prediction results will be given with an integer index beginning at `start`.\n",
      "  return get_prediction_index(\n"
     ]
    }
   ],
   "source": [
    "forecast_AR = float(model_4.predict(start = len(data3[\"diff_Effective Yield %\"]), end = len(data3[\"diff_Effective Yield %\"])).values)\n",
    "print(forecast_AR)"
   ]
  },
  {
   "cell_type": "code",
   "execution_count": 143,
   "id": "98246104",
   "metadata": {},
   "outputs": [
    {
     "name": "stdout",
     "output_type": "stream",
     "text": [
      "0.021652179698397413\n"
     ]
    }
   ],
   "source": [
    "forecast_ADL = float(model_adl_4_1.predict(start = len(data3[\"diff_Effective Yield %\"]), end = len(data3[\"diff_Effective Yield %\"]), exog_oos = [0]))\n",
    "print(forecast_ADL)"
   ]
  },
  {
   "cell_type": "markdown",
   "id": "7a3326f4",
   "metadata": {},
   "source": [
    "# 8"
   ]
  },
  {
   "cell_type": "code",
   "execution_count": 111,
   "id": "1220351e",
   "metadata": {},
   "outputs": [],
   "source": [
    "#Python doesn't seem to give the in-sample SER, so I'll use sklearn's mse function\n",
    "from sklearn.metrics import mean_squared_error\n",
    "import math"
   ]
  },
  {
   "cell_type": "code",
   "execution_count": 127,
   "id": "644647f0",
   "metadata": {},
   "outputs": [],
   "source": [
    "t = 1.645"
   ]
  },
  {
   "cell_type": "code",
   "execution_count": 144,
   "id": "1c5b22df",
   "metadata": {},
   "outputs": [
    {
     "name": "stdout",
     "output_type": "stream",
     "text": [
      "0.0657551369201067\n"
     ]
    }
   ],
   "source": [
    "RMSE_AR = math.sqrt(mean_squared_error(data3[\"diff_Effective Yield %\"].loc[4:9225], predictions.loc[4:9225]))\n",
    "print(RSME_AR)"
   ]
  },
  {
   "cell_type": "code",
   "execution_count": 145,
   "id": "68fda53b",
   "metadata": {},
   "outputs": [
    {
     "name": "stdout",
     "output_type": "stream",
     "text": [
      "90% CI_AR = (-0.08653022611802325,0.1298041743491278)\n"
     ]
    }
   ],
   "source": [
    "print(f\"90% CI_AR = ({forecast_AR-t*RSME_AR},{forecast_AR+t*RSME_AR})\")"
   ]
  },
  {
   "cell_type": "code",
   "execution_count": 146,
   "id": "99125681",
   "metadata": {},
   "outputs": [
    {
     "name": "stdout",
     "output_type": "stream",
     "text": [
      "0.06567877048316739\n"
     ]
    }
   ],
   "source": [
    "RMSE_ADL = math.sqrt(mean_squared_error(data3[\"diff_Effective Yield %\"].loc[4:9225], predictions2[4:]))\n",
    "print(RSME_ADL)"
   ]
  },
  {
   "cell_type": "code",
   "execution_count": 147,
   "id": "f8cc0d1d",
   "metadata": {},
   "outputs": [
    {
     "name": "stdout",
     "output_type": "stream",
     "text": [
      "90% CI_ADL = (-0.08638939774641294,0.12969375714320777)\n"
     ]
    }
   ],
   "source": [
    "print(f\"90% CI_ADL = ({forecast_ADL-t*RSME_ADL},{forecast_ADL+t*RSME_ADL})\")"
   ]
  }
 ],
 "metadata": {
  "kernelspec": {
   "display_name": "Python 3 (ipykernel)",
   "language": "python",
   "name": "python3"
  },
  "language_info": {
   "codemirror_mode": {
    "name": "ipython",
    "version": 3
   },
   "file_extension": ".py",
   "mimetype": "text/x-python",
   "name": "python",
   "nbconvert_exporter": "python",
   "pygments_lexer": "ipython3",
   "version": "3.10.4"
  }
 },
 "nbformat": 4,
 "nbformat_minor": 5
}
